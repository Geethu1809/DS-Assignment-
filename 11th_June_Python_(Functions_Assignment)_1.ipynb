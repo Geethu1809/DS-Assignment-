{
  "nbformat": 4,
  "nbformat_minor": 0,
  "metadata": {
    "colab": {
      "provenance": []
    },
    "kernelspec": {
      "name": "python3",
      "display_name": "Python 3"
    },
    "language_info": {
      "name": "python"
    }
  },
  "cells": [
    {
      "cell_type": "markdown",
      "source": [
        "1. What is a lambda function in Python, and how does it differ from a regular function?\n"
      ],
      "metadata": {
        "id": "Cj9VBT29QmY9"
      }
    },
    {
      "cell_type": "code",
      "source": [
        "A lambda function is an anonymous function that can take any number of arguments but, unlike normal functions, evaluates and returns only one expression.\n",
        "A lambda function is defined in a single line and doesn't require a `def` statement or a function name. It is typically used for simple, one-line operations where creating a full-fledged function would be unnecessary or cumbersome.\n",
        "Lambda functions are often used in conjunction with higher-order functions like `map()`, `filter()`, and `reduce()`, where a function is required as an argument.\n"
      ],
      "metadata": {
        "id": "YYTsmZnz2YCt"
      },
      "execution_count": null,
      "outputs": []
    },
    {
      "cell_type": "markdown",
      "source": [
        "2. Can a lambda function in Python have multiple arguments? If yes, how can you define and use\n",
        "them?\n"
      ],
      "metadata": {
        "id": "xHRf3Rk5Qmbi"
      }
    },
    {
      "cell_type": "code",
      "source": [
        "Yes, a lambda function in Python can have multiple arguments.\n",
        "Can define and use multiple arguments in a lambda function by separating them with commas, just like in a regular function."
      ],
      "metadata": {
        "id": "Yt4c5-ztas5G"
      },
      "execution_count": null,
      "outputs": []
    },
    {
      "cell_type": "markdown",
      "source": [
        "3. How are lambda functions typically used in Python? Provide an example use case.\n"
      ],
      "metadata": {
        "id": "hoaVIv0uQmeJ"
      }
    },
    {
      "cell_type": "code",
      "source": [
        "Lambda functions in Python are typically used as anonymous functions, meaning they are functions without a name.\n",
        "They are commonly used in situations where a small, one-line function is needed, and defining a regular function would be unnecessary or cumbersome.\n",
        "Example use case for lambda functions is when working with higher-order functions like `map()`, `filter()`, or `reduce()`.\n"
      ],
      "metadata": {
        "id": "Ae9sNZYwdUIx"
      },
      "execution_count": null,
      "outputs": []
    },
    {
      "cell_type": "code",
      "source": [
        "numbers = [1, 2, 3, 4, 5]\n",
        "doubled_numbers = list(map(lambda x: x * 2, numbers))\n",
        "print(doubled_numbers)"
      ],
      "metadata": {
        "colab": {
          "base_uri": "https://localhost:8080/"
        },
        "id": "JInjfJ4PejiR",
        "outputId": "35da40a8-56c0-4b4d-88fa-ad443e917564"
      },
      "execution_count": null,
      "outputs": [
        {
          "output_type": "stream",
          "name": "stdout",
          "text": [
            "[2, 4, 6, 8, 10]\n"
          ]
        }
      ]
    },
    {
      "cell_type": "markdown",
      "source": [
        "4. What are the advantages and limitations of lambda functions compared to regular functions in\n",
        "Python?\n"
      ],
      "metadata": {
        "id": "zYtANavWQmgl"
      }
    },
    {
      "cell_type": "code",
      "source": [
        "ADVANTAGES:\n",
        "1. Concise syntax: Lambda functions allow you to define small, anonymous functions in a single line of code. This can make your code more readable and reduce the need for defining separate functions.\n",
        "2. Inline usage: Lambda functions can be used directly in expressions or as arguments to higher-order functions like `map()`, `filter()`, or `reduce()`. This makes it convenient to write and use functions on the fly without the need for separate function definitions.\n",
        "3. Function composition: Lambda functions can be easily composed together using functional programming techniques like currying or partial application. This allows for more flexible and expressive code.\n",
        "4. Lambda enables you to use functions with pre-trained machine learning (ML) models to inject artiﬁcial intelligence into applications more easily."
      ],
      "metadata": {
        "id": "2BiEnJNpelZR"
      },
      "execution_count": null,
      "outputs": []
    },
    {
      "cell_type": "code",
      "source": [
        "LIMITATIONS:\n",
        "1. Limited functionality: Lambda functions are restricted to a single expression and cannot contain statements or multiple lines of code. This limits their ability to handle complex logic or perform multiple operations.\n",
        "2. Lack of name: Lambda functions are anonymous, meaning they don't have a name associated with them. This can make it harder to debug or understand the code when lambda functions are used extensively.\n",
        "3. Readability concerns: While lambda functions can make code more concise, they can also make it harder to understand for someone unfamiliar with functional programming or lambda syntax. Overuse of lambda functions can lead to less readable code.\n",
        "4. The maximum time a function can run is 15 minutes, and the default timeout is 3 seconds."
      ],
      "metadata": {
        "id": "FhkJAsWPez9-"
      },
      "execution_count": null,
      "outputs": []
    },
    {
      "cell_type": "markdown",
      "source": [
        "5. Are lambda functions in Python able to access variables defined outside of their own scope?\n",
        "Explain with an example.\n"
      ],
      "metadata": {
        "id": "wdqOzthdQmjY"
      }
    },
    {
      "cell_type": "code",
      "source": [
        "No, lambda functions in Python cannot directly access variables defined outside of their own scope. Lambda functions are limited to their own local scope and the arguments passed to them.\n"
      ],
      "metadata": {
        "id": "J1U1idpsfUV-"
      },
      "execution_count": null,
      "outputs": []
    },
    {
      "cell_type": "code",
      "source": [
        "def outer_function(x):\n",
        "    y = 10\n",
        "\n",
        "    #a lambda function that uses variables from the outer scope\n",
        "    lambda_function = lambda z: x + y + z\n",
        "\n",
        "    return lambda_function\n",
        "\n",
        "#a closure by calling the outer function\n",
        "closure = outer_function(5)\n",
        "\n",
        "#Call the closure with an argument\n",
        "result = closure(3)\n"
      ],
      "metadata": {
        "id": "Xawyuufkf4eP"
      },
      "execution_count": null,
      "outputs": []
    },
    {
      "cell_type": "code",
      "source": [
        "print(result)"
      ],
      "metadata": {
        "colab": {
          "base_uri": "https://localhost:8080/"
        },
        "id": "KhWfqbLlgBWm",
        "outputId": "ffc31ef9-e1c2-48e5-be2e-c055afcecbe1"
      },
      "execution_count": null,
      "outputs": [
        {
          "output_type": "stream",
          "name": "stdout",
          "text": [
            "18\n"
          ]
        }
      ]
    },
    {
      "cell_type": "markdown",
      "source": [
        "6. Write a lambda function to calculate the square of a given number.\n"
      ],
      "metadata": {
        "id": "aTAVgAc2Qmm1"
      }
    },
    {
      "cell_type": "code",
      "source": [
        "square = lambda x: x**2\n",
        "number = 5\n",
        "result = square(number)\n",
        "print(\"Square of\", number, \"is\", result)\n"
      ],
      "metadata": {
        "colab": {
          "base_uri": "https://localhost:8080/"
        },
        "id": "RmMAdfsDgDyP",
        "outputId": "42f4fef0-28bb-4a31-b87f-256696650ef0"
      },
      "execution_count": null,
      "outputs": [
        {
          "output_type": "stream",
          "name": "stdout",
          "text": [
            "Square of 5 is 25\n"
          ]
        }
      ]
    },
    {
      "cell_type": "markdown",
      "source": [
        "7. Create a lambda function to find the maximum value in a list of integers.\n"
      ],
      "metadata": {
        "id": "kONrVIE3Qmqn"
      }
    },
    {
      "cell_type": "code",
      "source": [
        "import functools\n",
        "# initializing list\n",
        "list = [1, 3, 5, 6, 2]\n",
        "print(\"The maximum element of the list is : \", end=\"\")\n",
        "print(functools.reduce(lambda a, b: a if a > b else b, list))"
      ],
      "metadata": {
        "colab": {
          "base_uri": "https://localhost:8080/"
        },
        "id": "9I-l65cqgWRX",
        "outputId": "84d8a131-6a4d-43f2-bf11-daa3811fa2b1"
      },
      "execution_count": null,
      "outputs": [
        {
          "output_type": "stream",
          "name": "stdout",
          "text": [
            "The maximum element of the list is : 6\n"
          ]
        }
      ]
    },
    {
      "cell_type": "markdown",
      "source": [
        "8. Implement a lambda function to filter out all the even numbers from a list of integers.\n"
      ],
      "metadata": {
        "id": "m3AfotnmRFB6"
      }
    },
    {
      "cell_type": "code",
      "source": [
        "numbers = [11, 22, 33, 44, 55, 66, 77, 88, 99, 100]\n",
        "print(\"List of numbers:\")\n",
        "print(numbers)\n",
        "print(\"\\nList of even numbers:\")\n",
        "evenNumbers = list(filter(lambda x: x%2 == 0, numbers))\n",
        "print(evenNumbers)"
      ],
      "metadata": {
        "colab": {
          "base_uri": "https://localhost:8080/"
        },
        "id": "LW0n_cZOhHtm",
        "outputId": "c06374e2-5809-4051-8255-e42ded0188ac"
      },
      "execution_count": 1,
      "outputs": [
        {
          "output_type": "stream",
          "name": "stdout",
          "text": [
            "List of numbers:\n",
            "[11, 22, 33, 44, 55, 66, 77, 88, 99, 100]\n",
            "\n",
            "List of even numbers:\n",
            "[22, 44, 66, 88, 100]\n"
          ]
        }
      ]
    },
    {
      "cell_type": "code",
      "source": [
        "numbers = [1, 2, 3, 4, 5, 6, 7, 8, 9, 10]\n",
        "even_numbers = list(filter(lambda x: x % 2 == 0, numbers))\n",
        "print(\"Even Numbers:\", even_numbers)"
      ],
      "metadata": {
        "colab": {
          "base_uri": "https://localhost:8080/"
        },
        "id": "VtC3tMTUij2o",
        "outputId": "d54b8a40-159e-4c29-c87b-c46b15d231e7"
      },
      "execution_count": 2,
      "outputs": [
        {
          "output_type": "stream",
          "name": "stdout",
          "text": [
            "Even Numbers: [2, 4, 6, 8, 10]\n"
          ]
        }
      ]
    },
    {
      "cell_type": "markdown",
      "source": [
        "9. Write a lambda function to sort a list of strings in ascending order based on the length of each\n",
        "string.\n"
      ],
      "metadata": {
        "id": "-PJrVX3FRFEa"
      }
    },
    {
      "cell_type": "code",
      "source": [
        "strings = [\"apple\", \"banana\", \"cherry\", \"date\", \"elderberry\"]\n",
        "sorted_strings = sorted(strings, key=lambda x: len(x))\n",
        "strings = [\"apple\", \"banana\", \"cherry\", \"date\", \"elderberry\"]\n",
        "sorted_strings = sorted(strings, key=lambda x: len(x))\n",
        "print(\"Sorted Strings:\", sorted_strings)"
      ],
      "metadata": {
        "colab": {
          "base_uri": "https://localhost:8080/"
        },
        "id": "EIywSax3jCRP",
        "outputId": "179d8a3c-fad6-47aa-9e50-58a559b15864"
      },
      "execution_count": null,
      "outputs": [
        {
          "output_type": "stream",
          "name": "stdout",
          "text": [
            "Sorted Strings: ['date', 'apple', 'banana', 'cherry', 'elderberry']\n"
          ]
        }
      ]
    },
    {
      "cell_type": "markdown",
      "source": [
        "10. Create a lambda function that takes two lists as input and returns a new list containing the\n",
        "common elements between the two lists.\n"
      ],
      "metadata": {
        "id": "1Eqt2z5rRFG5"
      }
    },
    {
      "cell_type": "code",
      "source": [
        "common_elements = lambda list1, list2: list(set(list1) & set(list2))\n",
        "list1 = [1, 2, 3, 4, 5]\n",
        "list2 = [4, 5, 6, 7, 8]\n",
        "result = common_elements(list1, list2)\n",
        "print(\"Common elements:\", result)"
      ],
      "metadata": {
        "colab": {
          "base_uri": "https://localhost:8080/"
        },
        "id": "9oQF6WByjCuh",
        "outputId": "9fb1a3cc-c3dc-4e94-d66f-310506d206ba"
      },
      "execution_count": 3,
      "outputs": [
        {
          "output_type": "stream",
          "name": "stdout",
          "text": [
            "Common elements: [4, 5]\n"
          ]
        }
      ]
    },
    {
      "cell_type": "markdown",
      "source": [
        "11. Write a recursive function to calculate the factorial of a given positive integer.\n"
      ],
      "metadata": {
        "id": "zG6xxkuLRFJN"
      }
    },
    {
      "cell_type": "code",
      "source": [
        "def factorial(n):\n",
        "    if n == 0:\n",
        "        return 1\n",
        "    else:\n",
        "        return n * factorial(n-1)"
      ],
      "metadata": {
        "id": "dwpq36CwjDUX"
      },
      "execution_count": null,
      "outputs": []
    },
    {
      "cell_type": "code",
      "source": [
        "number = 5\n",
        "result = factorial(number)\n",
        "print(\"Factorial of\", number, \"is\", result)"
      ],
      "metadata": {
        "colab": {
          "base_uri": "https://localhost:8080/"
        },
        "id": "bk9REY9ej-xA",
        "outputId": "58c94725-2ddf-4925-fd63-5d4571a672c1"
      },
      "execution_count": null,
      "outputs": [
        {
          "output_type": "stream",
          "name": "stdout",
          "text": [
            "Factorial of 5 is 120\n"
          ]
        }
      ]
    },
    {
      "cell_type": "markdown",
      "source": [
        "12. Implement a recursive function to compute the nth Fibonacci number.\n"
      ],
      "metadata": {
        "id": "_pNgXg2CRFMF"
      }
    },
    {
      "cell_type": "code",
      "source": [
        "def Fibonacci_Series(n):\n",
        "    # using if-else conditional statement\n",
        "    if n < 0:\n",
        "        print(\"Oops! Incorrect input\")\n",
        "    # First Fibonacci number is 0\n",
        "    elif n == 0:\n",
        "        return (0)\n",
        "    # Second Fibonacci number is 1\n",
        "    elif n == 1:\n",
        "        return (1)\n",
        "    else:\n",
        "        return (Fibonacci_Series(n - 1) + Fibonacci_Series(n - 2))\n"
      ],
      "metadata": {
        "id": "T5EKAb06jD4w"
      },
      "execution_count": null,
      "outputs": []
    },
    {
      "cell_type": "code",
      "source": [
        "# printing the 10th element of the Fibonacci Series\n",
        "print(\"10th Element of the Fibonacci Series:\", Fibonacci_Series(10))"
      ],
      "metadata": {
        "colab": {
          "base_uri": "https://localhost:8080/"
        },
        "id": "3alb24Cvkvvo",
        "outputId": "19c4f93b-5f16-4c5d-9a6d-63c61d7ce333"
      },
      "execution_count": null,
      "outputs": [
        {
          "output_type": "stream",
          "name": "stdout",
          "text": [
            "10th Element of the Fibonacci Series: 55\n"
          ]
        }
      ]
    },
    {
      "cell_type": "markdown",
      "source": [
        "13. Create a recursive function to find the sum of all the elements in a given list.\n"
      ],
      "metadata": {
        "id": "PSaA_PXKRFPc"
      }
    },
    {
      "cell_type": "code",
      "source": [
        "def recursive_list_sum(data_list):\n",
        "\ttotal = 0\n",
        "\tfor element in data_list:\n",
        "\t\tif type(element) == type([]):\n",
        "\t\t\ttotal = total + recursive_list_sum(element)\n",
        "\t\telse:\n",
        "\t\t\ttotal = total + element\n",
        "\n",
        "\treturn total\n",
        "print( recursive_list_sum([1, 2, [3,4],[5,6]]))"
      ],
      "metadata": {
        "colab": {
          "base_uri": "https://localhost:8080/"
        },
        "id": "SID_8P6kltvI",
        "outputId": "5df0d6f2-8448-4ec6-9af9-5a102cf32d44"
      },
      "execution_count": null,
      "outputs": [
        {
          "output_type": "stream",
          "name": "stdout",
          "text": [
            "21\n"
          ]
        }
      ]
    },
    {
      "cell_type": "markdown",
      "source": [
        "14. Write a recursive function to determine whether a given string is a palindrome.\n"
      ],
      "metadata": {
        "id": "6JAcx8DdZ3gl"
      }
    },
    {
      "cell_type": "code",
      "source": [
        "def is_palindrome(s):\n",
        "    if len(s) < 1:\n",
        "        return True\n",
        "    else:\n",
        "        if s[0] == s[-1]:\n",
        "            return is_palindrome(s[1:-1])\n",
        "        else:\n",
        "            return False\n",
        "a=str(input(\"Enter string:\"))\n",
        "if(is_palindrome(a)==True):\n",
        "    print(\"String is a palindrome!\")\n",
        "else:\n",
        "    print(\"String isn't a palindrome!\")"
      ],
      "metadata": {
        "colab": {
          "base_uri": "https://localhost:8080/"
        },
        "id": "H-9boVCojFYf",
        "outputId": "42850033-443b-4084-b06b-31fa1b7590f3"
      },
      "execution_count": null,
      "outputs": [
        {
          "output_type": "stream",
          "name": "stdout",
          "text": [
            "Enter string:racecar\n",
            "String is a palindrome!\n"
          ]
        }
      ]
    },
    {
      "cell_type": "markdown",
      "source": [
        "15. Implement a recursive function to find the greatest common divisor (GCD) of two positive integers."
      ],
      "metadata": {
        "id": "TFIlLBWnZ3n0"
      }
    },
    {
      "cell_type": "code",
      "source": [
        "def gcd(a, b):\n",
        "   if a == b:\n",
        "      return a\n",
        "   elif a < b:\n",
        "      return gcd(b, a)\n",
        "   else:\n",
        "      return gcd(b, a - b)\n",
        "\n",
        "a = 25\n",
        "b = 45\n",
        "print(gcd(a, b))"
      ],
      "metadata": {
        "colab": {
          "base_uri": "https://localhost:8080/"
        },
        "id": "A8ods-2ujGIH",
        "outputId": "a4be2f47-a3a0-4c62-d53e-9e52a8338a2a"
      },
      "execution_count": null,
      "outputs": [
        {
          "output_type": "stream",
          "name": "stdout",
          "text": [
            "5\n"
          ]
        }
      ]
    },
    {
      "cell_type": "code",
      "source": [],
      "metadata": {
        "id": "LuF5dIMFmc9g"
      },
      "execution_count": null,
      "outputs": []
    }
  ]
}