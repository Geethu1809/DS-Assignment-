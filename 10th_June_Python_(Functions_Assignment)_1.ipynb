{
  "nbformat": 4,
  "nbformat_minor": 0,
  "metadata": {
    "colab": {
      "provenance": []
    },
    "kernelspec": {
      "name": "python3",
      "display_name": "Python 3"
    },
    "language_info": {
      "name": "python"
    }
  },
  "cells": [
    {
      "cell_type": "markdown",
      "source": [
        "1. In Python, what is the difference between a built-in function and a user-defined function? Provide an\n",
        "example of each.\n"
      ],
      "metadata": {
        "id": "7jVDqwL2PwqS"
      }
    },
    {
      "cell_type": "code",
      "source": [
        "A built-in function is a function that is already provided by the Python programming language.\n",
        "These functions are readily available for use without requiring any additional code or imports.\n",
        "Example:- `len()` function,"
      ],
      "metadata": {
        "id": "H9DleH0AV7Ga"
      },
      "execution_count": null,
      "outputs": []
    },
    {
      "cell_type": "code",
      "source": [
        "A user-defined function is a function that is created by the user to perform a specific task.\n",
        "These functions are defined by the user using the `def` keyword and can be customized to suit their needs.\n",
        "Example :- `multiply_numbers()`"
      ],
      "metadata": {
        "id": "U54TRaKQcwWR"
      },
      "execution_count": null,
      "outputs": []
    },
    {
      "cell_type": "markdown",
      "source": [
        "2. How can you pass arguments to a function in Python? Explain the difference between positional\n",
        "arguments and keyword arguments.\n"
      ],
      "metadata": {
        "id": "ISRYKf4CPws1"
      }
    },
    {
      "cell_type": "code",
      "source": [
        "We can pass arguments to a function in 2 ways: using positional arguments or keyword arguments."
      ],
      "metadata": {
        "id": "QG8X6F_OhUvJ"
      },
      "execution_count": null,
      "outputs": []
    },
    {
      "cell_type": "code",
      "source": [
        "Keyword Argument: Parameter Names are used to pass the argument during the function call.\n",
        "Positional Argument: Arguments are passed in the order of parameters. The order defined in the order function declaration.\n",
        "Keyword Argument: Order of parameter Names can be changed to pass the argument(or values).\n",
        "Positional Argument: Order of values cannot be changed to avoid the unexpected output.\n",
        "Keyword Argument Syntax: FunctionName(paramName = value, ...)\n",
        "Positional Argument Syntax: FunctionName(value1, value2, value3,....)"
      ],
      "metadata": {
        "id": "YoqOiRKew4vx"
      },
      "execution_count": null,
      "outputs": []
    },
    {
      "cell_type": "markdown",
      "source": [
        "3. What is the purpose of the return statement in a function? Can a function have multiple return\n",
        "statements? Explain with an example.\n"
      ],
      "metadata": {
        "id": "uWbL3qMsPwvO"
      }
    },
    {
      "cell_type": "code",
      "source": [
        "A return statement is used to end the execution of the function call and \"returns\" the result to the user.\n",
        "A return statement is used to invoke a function so that the passed statements can be executed."
      ],
      "metadata": {
        "id": "2R-uwmP7yp0J"
      },
      "execution_count": null,
      "outputs": []
    },
    {
      "cell_type": "code",
      "source": [
        "Yes, a function can have multiple return statements.\n",
        "When a return statement is encountered, the function immediately stops executing and the value specified in the return statement is sent back as the result of the function call.\n",
        "This means that only one return statement will be executed in a function, and the function will exit at that point.\n"
      ],
      "metadata": {
        "id": "qfbS-rJbyYFb"
      },
      "execution_count": null,
      "outputs": []
    },
    {
      "cell_type": "code",
      "source": [
        "def create_adder(x):\n",
        "\tdef adder(y):\n",
        "\t\treturn x + y\n",
        "\treturn adder\n",
        "add_15 = create_adder(15)\n",
        "print(\"The result is\", add_15(10))\n",
        "def outer(x):\n",
        "\treturn x * 10\n",
        "def my_func():\n",
        "\t\treturn outer\n",
        "res = my_func()\n",
        "print(\"\\nThe result is:\", res(10))\n"
      ],
      "metadata": {
        "colab": {
          "base_uri": "https://localhost:8080/"
        },
        "id": "ZIfcpve-yYnS",
        "outputId": "8df3b608-668b-4b99-9b58-97b27387d800"
      },
      "execution_count": null,
      "outputs": [
        {
          "output_type": "stream",
          "name": "stdout",
          "text": [
            "The result is 25\n",
            "\n",
            "The result is: 100\n"
          ]
        }
      ]
    },
    {
      "cell_type": "code",
      "source": [
        "A return statement is used to end the execution of the function call and “returns” the result (value of the expression following the return keyword) to the caller.\n",
        "A return statement is used to invoke a function so that the passed statements can be executed."
      ],
      "metadata": {
        "id": "2LHoMXf7xkhp"
      },
      "execution_count": null,
      "outputs": []
    },
    {
      "cell_type": "markdown",
      "source": [
        "4. What are lambda functions in Python? How are they different from regular functions? Provide an\n",
        "example where a lambda function can be useful.\n"
      ],
      "metadata": {
        "id": "oNtTmMxIPwyO"
      }
    },
    {
      "cell_type": "code",
      "source": [
        "Lambda functions in Python are anonymous functions that are defined using the `lambda` keyword.\n",
        "They are called \"anonymous\" because they don't have a name like regular functions.\n",
        "Lambda functions are typically used for simple, one-line operations and are often used in conjunction with higher-order functions like `map()`, `filter()`, and `reduce()`."
      ],
      "metadata": {
        "id": "2mW8KBgwzNDZ"
      },
      "execution_count": null,
      "outputs": []
    },
    {
      "cell_type": "code",
      "source": [
        "The main difference between lambda functions and regular functions is that lambda functions are defined inline and don't require a separate `def` statement.\n",
        "They can take any number of arguments but can only have a single expression.\n",
        "Lambda functions are useful when you need a small, throwaway function without the need for a formal function definition."
      ],
      "metadata": {
        "id": "p2Me50n90ecZ"
      },
      "execution_count": null,
      "outputs": []
    },
    {
      "cell_type": "code",
      "source": [
        "#Example:-\n",
        "add = lambda x, y: x + y\n",
        "print(add(66 , 78))"
      ],
      "metadata": {
        "colab": {
          "base_uri": "https://localhost:8080/"
        },
        "id": "3gurEMLt0sSJ",
        "outputId": "8c786713-4f58-48e0-d45a-a2ec9ced2079"
      },
      "execution_count": null,
      "outputs": [
        {
          "output_type": "stream",
          "name": "stdout",
          "text": [
            "144\n"
          ]
        }
      ]
    },
    {
      "cell_type": "markdown",
      "source": [
        "5. How does the concept of \"scope\" apply to functions in Python? Explain the difference between local\n",
        "scope and global scope.\n"
      ],
      "metadata": {
        "id": "LuVqonamPw1P"
      }
    },
    {
      "cell_type": "code",
      "source": [
        "The concept of \"scope\" in Python refers to the visibility and accessibility of variables within different parts of a program. It determines where and how variables can be accessed and modified."
      ],
      "metadata": {
        "id": "G2s6uJZI03VR"
      },
      "execution_count": null,
      "outputs": []
    },
    {
      "cell_type": "code",
      "source": [
        "Functions have their own scope, known as the local scope.\n",
        "Variables defined within a function are considered local variables and can only be accessed within that function.\n",
        "These variables are created when the function is called and are destroyed when the function completes its execution.\n",
        "Local variables cannot be accessed from outside the function."
      ],
      "metadata": {
        "id": "6qNF9aMY1k5R"
      },
      "execution_count": null,
      "outputs": []
    },
    {
      "cell_type": "code",
      "source": [
        "Global scope refers to the outermost scope of a program, where variables are accessible throughout the entire program.\n",
        "Global variables are defined outside of any function and can be accessed from any part of the program, including within functions."
      ],
      "metadata": {
        "id": "ek4VwGGh11DS"
      },
      "execution_count": null,
      "outputs": []
    },
    {
      "cell_type": "markdown",
      "source": [
        "6. How can you use the \"return\" statement in a Python function to return multiple values?\n"
      ],
      "metadata": {
        "id": "cFiR3cTyPw4p"
      }
    },
    {
      "cell_type": "code",
      "source": [
        "The `return` statement in a function to return multiple values by returning them as a tuple, list, or any other iterable object.\n",
        "Need to supply several return values separated by commas."
      ],
      "metadata": {
        "id": "WlXqaxh92Hz5"
      },
      "execution_count": null,
      "outputs": []
    },
    {
      "cell_type": "markdown",
      "source": [
        "7. What is the difference between the \"pass by value\" and \"pass by reference\" concepts when it\n",
        "comes to function arguments in Python?\n"
      ],
      "metadata": {
        "id": "chcVlKHCPw98"
      }
    },
    {
      "cell_type": "code",
      "source": [
        "We pass a copy of actual variables in function as a parameter.\n",
        "Hence any modification on parameters inside the function will not reflect in the actual variable."
      ],
      "metadata": {
        "id": "w_1Z-oPF3286"
      },
      "execution_count": null,
      "outputs": []
    },
    {
      "cell_type": "code",
      "source": [
        "Pass by reference means that you have to pass the function(reference) to a variable which refers that the variable already exists in memory."
      ],
      "metadata": {
        "id": "bjC5fqcv24QR"
      },
      "execution_count": null,
      "outputs": []
    },
    {
      "cell_type": "markdown",
      "source": [
        "8. Create a function that can intake integer or decimal value and do following operations:\n",
        "\n",
        "a. Logarithmic function (log x)\n",
        "\n",
        "b. Exponential function (exp(x))\n",
        "\n",
        "c. Power function with base 2 (2^x)\n",
        "\n",
        "d. Square root\n"
      ],
      "metadata": {
        "id": "nUKHUPXcQEDQ"
      }
    },
    {
      "cell_type": "code",
      "source": [
        "import math\n",
        "def perform_operations(value):\n",
        "    logarithmic_result = math.log(value)\n",
        "    exponential_result = math.exp(value)\n",
        "    power_result = math.pow(2, value)\n",
        "    square_root_result = math.sqrt(value)\n",
        "\n",
        "    return logarithmic_result, exponential_result, power_result, square_root_result\n"
      ],
      "metadata": {
        "id": "mKFCIVwbXl5F"
      },
      "execution_count": null,
      "outputs": []
    },
    {
      "cell_type": "code",
      "source": [
        "value = 5.0\n",
        "log_result, exp_result, power_result, sqrt_result = perform_operations(value)\n",
        "print(\"Logarithmic Result:\", log_result)\n",
        "print(\"Exponential Result:\", exp_result)\n",
        "print(\"Power Result (base 2):\", power_result)\n",
        "print(\"Square Root Result:\", sqrt_result)"
      ],
      "metadata": {
        "colab": {
          "base_uri": "https://localhost:8080/"
        },
        "id": "_l-uUSxgXeYd",
        "outputId": "392b846b-cb58-4cfb-c580-2207195a1d8d"
      },
      "execution_count": null,
      "outputs": [
        {
          "output_type": "stream",
          "name": "stdout",
          "text": [
            "Logarithmic Result: 1.6094379124341003\n",
            "Exponential Result: 148.4131591025766\n",
            "Power Result (base 2): 32.0\n",
            "Square Root Result: 2.23606797749979\n"
          ]
        }
      ]
    },
    {
      "cell_type": "markdown",
      "source": [
        "9. Create a function that takes a full name as an argument and returns first name and last name."
      ],
      "metadata": {
        "id": "YlmSf671QESk"
      }
    },
    {
      "cell_type": "code",
      "source": [
        "def extract_names(full_name):\n",
        "    names = full_name.split()\n",
        "    first_name = names[0]\n",
        "    last_name = names[-1]\n",
        "    return first_name, last_name"
      ],
      "metadata": {
        "id": "w1J_-CkvyEK8"
      },
      "execution_count": null,
      "outputs": []
    },
    {
      "cell_type": "code",
      "source": [
        "full_name = \"John Doe\"\n",
        "first_name, last_name = get_first_and_last_name(full_name)\n",
        "print(\"First Name:\", first_name)\n",
        "print(\"Last Name:\", last_name)"
      ],
      "metadata": {
        "colab": {
          "base_uri": "https://localhost:8080/"
        },
        "id": "qJw-4AoIXvi9",
        "outputId": "c195426f-5259-468b-db5c-233657019d82"
      },
      "execution_count": null,
      "outputs": [
        {
          "output_type": "stream",
          "name": "stdout",
          "text": [
            "First Name: John\n",
            "Last Name: Doe\n"
          ]
        }
      ]
    },
    {
      "cell_type": "markdown",
      "source": [],
      "metadata": {
        "id": "g5GWf1yeQEV9"
      }
    }
  ]
}