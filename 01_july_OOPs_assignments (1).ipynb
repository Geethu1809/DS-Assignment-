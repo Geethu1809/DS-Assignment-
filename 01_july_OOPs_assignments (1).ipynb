{
  "nbformat": 4,
  "nbformat_minor": 0,
  "metadata": {
    "colab": {
      "provenance": []
    },
    "kernelspec": {
      "name": "python3",
      "display_name": "Python 3"
    },
    "language_info": {
      "name": "python"
    }
  },
  "cells": [
    {
      "cell_type": "markdown",
      "source": [
        "**01_july_OOPs**"
      ],
      "metadata": {
        "id": "RsdO19l_bzL3"
      }
    },
    {
      "cell_type": "markdown",
      "source": [
        "1. What is the primary goal of Object-Oriented Programming (OOP)?\n"
      ],
      "metadata": {
        "id": "r6NvaTcWbzPK"
      }
    },
    {
      "cell_type": "code",
      "source": [
        "The three goals of Object Oriented Programming are Robustness, Adaptability, and Reusability."
      ],
      "metadata": {
        "id": "gERfAZ-r5hBh"
      },
      "execution_count": null,
      "outputs": []
    },
    {
      "cell_type": "markdown",
      "source": [
        "2. What is an object in Python?\n"
      ],
      "metadata": {
        "id": "-7pdUbPPbzSj"
      }
    },
    {
      "cell_type": "code",
      "source": [
        "n Object is an instance of a Class."
      ],
      "metadata": {
        "id": "_BHD_ksT5tMI"
      },
      "execution_count": null,
      "outputs": []
    },
    {
      "cell_type": "markdown",
      "source": [
        "3. What is a class in Python?\n"
      ],
      "metadata": {
        "id": "ntaAThz-c0uB"
      }
    },
    {
      "cell_type": "code",
      "source": [
        "A class is like a blueprint while an instance is a copy of the class with actual values."
      ],
      "metadata": {
        "id": "SLWp07vh5t-C"
      },
      "execution_count": null,
      "outputs": []
    },
    {
      "cell_type": "markdown",
      "source": [
        "4. What are attributes and methods in a class?\n"
      ],
      "metadata": {
        "id": "a0EN0WRec0wp"
      }
    },
    {
      "cell_type": "code",
      "source": [
        "Any variable that is bound in a class is a class attribute .\n",
        "Any function defined within a class is a method ."
      ],
      "metadata": {
        "id": "OO8nu2A75wfK"
      },
      "execution_count": null,
      "outputs": []
    },
    {
      "cell_type": "markdown",
      "source": [
        "5. What is the difference between class variables and instance variables in Python?\n"
      ],
      "metadata": {
        "id": "L66paPW4c0zL"
      }
    },
    {
      "cell_type": "code",
      "source": [
        "Class variables are useful for storing data that is shared among all instances of a class, such as constants or default values.\n",
        "It is basically a static variable that can be declared anywhere at class level with static.\n",
        "Across different objects, these variables can have only one value.\n",
        "These variables are not tied to any particular object of the class, therefore, can share across all objects of the class.\n",
        "\n",
        "Instance variables are used to store data that is unique to each instance of a class, such as object properties.\n",
        "It is basically a class variable without a static modifier and is usually shared by all class instances.\n",
        "Across different objects, these variables can have different values.\n",
        "They are tied to a particular object instance of the class, therefore, the contents of an instance variable are totally independent of one object instance to others.\n"
      ],
      "metadata": {
        "id": "5eJVoPXu6Dxn"
      },
      "execution_count": null,
      "outputs": []
    },
    {
      "cell_type": "markdown",
      "source": [
        "6. What is the purpose of the self parameter in Python class methods?\n"
      ],
      "metadata": {
        "id": "WUgNvUjDc02P"
      }
    },
    {
      "cell_type": "code",
      "source": [
        "The self parameter is a reference to the current instance of the class, and is used to access variables that belongs to the class.\n",
        "It does not have to be named self , you can call it whatever you like, but it has to be the first parameter of any function in the class.\n",
        "self represents the instance of the class. By using the “self”  we can access the attributes and methods of the class in python. It binds the attributes with the given arguments.\n",
        "The reason you need to use self. is because Python does not use the @ syntax to refer to instance attributes. Python decided to do methods in a way that makes the instance to which the method belongs be passed automatically, but not received automatically: the first parameter of methods is the instance the method is called on.\n"
      ],
      "metadata": {
        "id": "G1DAuXBz6cBY"
      },
      "execution_count": null,
      "outputs": []
    },
    {
      "cell_type": "markdown",
      "source": [
        "7. For a library management system, you have to design the \"Book\" class with OOP\n",
        "principles in mind. The “Book” class will have following attributes:\n",
        "\n",
        "a. title: Represents the title of the book.\n",
        "\n",
        "b. author: Represents the author(s) of the book.\n",
        "\n",
        "c. isbn: Represents the ISBN (International Standard Book Number) of the book.\n",
        "\n",
        "d. publication_year: Represents the year of publication of the book.\n",
        "\n",
        "e. available_copies: Represents the number of copies available for checkout.\n",
        "\n",
        "The class will also include the following methods:\n",
        "\n",
        "     a. check_out(self): Decrements the available copies by one if there are copies\n",
        "      available for checkout.\n",
        "     b. return_book(self): Increments the available copies by one when a book is\n",
        "     returned.\n",
        "     c. display_book_info(self): Displays the information about the book, including its\n",
        "     attributes and the number of available copies.\n"
      ],
      "metadata": {
        "id": "Dz6zIALlc04s"
      }
    },
    {
      "cell_type": "code",
      "source": [
        "class Book:\n",
        "    def __init__(self, title, author, isbn, publication_year, available_copies):\n",
        "        self.title = title\n",
        "        self.author = author\n",
        "        self.isbn = isbn\n",
        "        self.publication_year = publication_year\n",
        "        self.available_copies = available_copies\n",
        "\n",
        "    def check_out(self):\n",
        "        if self.available_copies > 0:\n",
        "            self.available_copies -= 1\n",
        "            print(\"Book checked out successfully.\")\n",
        "        else:\n",
        "            print(\"No copies available for checkout.\")\n",
        "\n",
        "    def return_book(self):\n",
        "        self.available_copies += 1\n",
        "        print(\"Book returned successfully.\")\n",
        "\n",
        "    def display_book_info(self):\n",
        "        print(\"Title:\", self.title)\n",
        "        print(\"Author(s):\", self.author)\n",
        "        print(\"ISBN:\", self.isbn)\n",
        "        print(\"Publication Year:\", self.publication_year)\n",
        "        print(\"Available Copies:\", self.available_copies)"
      ],
      "metadata": {
        "id": "Oe-hnizeqGx-"
      },
      "execution_count": null,
      "outputs": []
    },
    {
      "cell_type": "code",
      "source": [
        "book=Book('Harry Potter and the Philosophers Stone','Harry Potter and the Philosophers Stone',\t978-7475-3269-9 , 26-6-1997, 100)"
      ],
      "metadata": {
        "id": "cZv7pf2NqY2v"
      },
      "execution_count": null,
      "outputs": []
    },
    {
      "cell_type": "code",
      "source": [
        "book.title"
      ],
      "metadata": {
        "colab": {
          "base_uri": "https://localhost:8080/",
          "height": 35
        },
        "id": "UoyjTQVVshzv",
        "outputId": "ceea1269-bbb0-4bec-f5f6-a76332c27a2e"
      },
      "execution_count": null,
      "outputs": [
        {
          "output_type": "execute_result",
          "data": {
            "text/plain": [
              "'Harry Potter and the Philosophers Stone'"
            ],
            "application/vnd.google.colaboratory.intrinsic+json": {
              "type": "string"
            }
          },
          "metadata": {},
          "execution_count": 6
        }
      ]
    },
    {
      "cell_type": "markdown",
      "source": [
        "\n",
        "8. For a ticket booking system, you have to design the \"Ticket\" class with OOP\n",
        "principles in mind. The “Ticket” class should have the following attributes:\n",
        "\n",
        "a. ticket_id: Represents the unique identifier for the ticket.\n",
        "\n",
        "b. event_name: Represents the name of the event.\n",
        "\n",
        "c. event_date: Represents the date of the event.\n",
        "\n",
        "d. venue: Represents the venue of the event.\n",
        "\n",
        "e. seat_number: Represents the seat number associated with the ticket.\n",
        "\n",
        "f. price: Represents the price of the ticket.\n",
        "\n",
        "g. is_reserved: Represents the reservation status of the ticket.\n",
        "\n",
        "The class also includes the following methods:\n",
        "\n",
        "         a. reserve_ticket(self): Marks the ticket as reserved if it is not already reserved.\n",
        "         b. cancel_reservation(self): Cancels the reservation of the ticket if it is already\n",
        "         reserved.\n",
        "         c. display_ticket_info(self): Displays the information about the ticket, including its\n",
        "         attributes and reservation status.\n"
      ],
      "metadata": {
        "id": "Ux0FeGUDc06_"
      }
    },
    {
      "cell_type": "code",
      "source": [
        "class Ticket:\n",
        "    def __init__(self, ticket_id, event_name, event_date, venue, seat_number, price):\n",
        "        self.ticket_id = ticket_id\n",
        "        self.event_name = event_name\n",
        "        self.event_date = event_date\n",
        "        self.venue = venue\n",
        "        self.seat_number = seat_number\n",
        "        self.price = price\n",
        "        self.is_reserved = False\n",
        "\n",
        "    def reserve_ticket(self):\n",
        "        if not self.is_reserved:\n",
        "            self.is_reserved = True\n",
        "            print(f\"Ticket {self.ticket_id} has been reserved.\")\n",
        "        else:\n",
        "            print(f\"Ticket {self.ticket_id} is already reserved.\")\n",
        "\n",
        "    def cancel_reservation(self):\n",
        "        if self.is_reserved:\n",
        "            self.is_reserved = False\n",
        "            print(f\"Reservation for Ticket {self.ticket_id} has been canceled.\")\n",
        "        else:\n",
        "            print(f\"Ticket {self.ticket_id} is not reserved, so cannot cancel reservation.\")\n",
        "\n",
        "    def display_ticket_info(self):\n",
        "        print(f\"Ticket ID: {self.ticket_id}\")\n",
        "        print(f\"Event Name: {self.event_name}\")\n",
        "        print(f\"Event Date: {self.event_date}\")\n",
        "        print(f\"Venue: {self.venue}\")\n",
        "        print(f\"Seat Number: {self.seat_number}\")\n",
        "        print(f\"Price: {self.price}\")\n",
        "        print(f\"Reservation Status: {'Reserved' if self.is_reserved else 'Not Reserved'}\")\n",
        "\n",
        "ticket1 = Ticket(1, \"Concert\", \"2024-02-10\", \"Music Hall\", \"A101\", 50.00)\n",
        "ticket1.display_ticket_info()\n",
        "\n",
        "ticket1.reserve_ticket()\n",
        "ticket1.display_ticket_info()\n",
        "\n",
        "ticket1.cancel_reservation()\n",
        "ticket1.display_ticket_info()\n"
      ],
      "metadata": {
        "id": "loZwWGvNqDL2",
        "colab": {
          "base_uri": "https://localhost:8080/"
        },
        "outputId": "00f9b66c-f743-4535-dd70-dc3c2ac3e43b"
      },
      "execution_count": 3,
      "outputs": [
        {
          "output_type": "stream",
          "name": "stdout",
          "text": [
            "Ticket ID: 1\n",
            "Event Name: Concert\n",
            "Event Date: 2024-02-10\n",
            "Venue: Music Hall\n",
            "Seat Number: A101\n",
            "Price: 50.0\n",
            "Reservation Status: Not Reserved\n",
            "Ticket 1 has been reserved.\n",
            "Ticket ID: 1\n",
            "Event Name: Concert\n",
            "Event Date: 2024-02-10\n",
            "Venue: Music Hall\n",
            "Seat Number: A101\n",
            "Price: 50.0\n",
            "Reservation Status: Reserved\n",
            "Reservation for Ticket 1 has been canceled.\n",
            "Ticket ID: 1\n",
            "Event Name: Concert\n",
            "Event Date: 2024-02-10\n",
            "Venue: Music Hall\n",
            "Seat Number: A101\n",
            "Price: 50.0\n",
            "Reservation Status: Not Reserved\n"
          ]
        }
      ]
    },
    {
      "cell_type": "code",
      "source": [],
      "metadata": {
        "id": "_o_t9b-Nsy6P"
      },
      "execution_count": null,
      "outputs": []
    },
    {
      "cell_type": "markdown",
      "source": [
        "\n",
        "9. You are creating a shopping cart for an e-commerce website. Using OOP to model\n",
        "the \"ShoppingCart\" functionality the class should contain following attributes and\n",
        "methods:\n",
        "\n",
        "a. items: Represents the list of items in the shopping cart.\n",
        "The class also includes the following methods:\n",
        "\n",
        "a. add_item(self, item): Adds an item to the shopping cart by appending it to the\n",
        "list of items.\n",
        "\n",
        "b. remove_item(self, item): Removes an item from the shopping cart if it exists in\n",
        "the list.\n",
        "\n",
        "c. view_cart(self): Displays the items currently present in the shopping cart.\n",
        "\n",
        "d. clear_cart(self): Clears all items from the shopping cart by reassigning an\n",
        "empty list to the items attribute.\n"
      ],
      "metadata": {
        "id": "6SiEa6VSc09y"
      }
    },
    {
      "cell_type": "code",
      "source": [
        "class ShoppingCart:\n",
        "    def __init__(self):\n",
        "        self.items = []\n",
        "\n",
        "    def add_item(self, item):\n",
        "        self.items.append(item)\n",
        "        print(f\"Item '{item}' added to the shopping cart.\")\n",
        "\n",
        "    def remove_item(self, item):\n",
        "        if item in self.items:\n",
        "            self.items.remove(item)\n",
        "            print(f\"Item '{item}' removed from the shopping cart.\")\n",
        "        else:\n",
        "            print(f\"Item '{item}' not found in the shopping cart.\")\n",
        "\n",
        "    def view_cart(self):\n",
        "        if not self.items:\n",
        "            print(\"The shopping cart is empty.\")\n",
        "        else:\n",
        "            print(\"Items in the shopping cart:\")\n",
        "            for item in self.items:\n",
        "                print(f\"- {item}\")\n",
        "\n",
        "    def clear_cart(self):\n",
        "        self.items = []\n",
        "        print(\"Shopping cart cleared.\")\n",
        "\n",
        "shopping_cart = ShoppingCart()\n",
        "\n",
        "shopping_cart.view_cart()\n",
        "\n",
        "shopping_cart.add_item(\"Product 1\")\n",
        "shopping_cart.add_item(\"Product 2\")\n",
        "shopping_cart.view_cart()\n",
        "\n",
        "shopping_cart.remove_item(\"Product 1\")\n",
        "shopping_cart.view_cart()\n",
        "\n",
        "shopping_cart.clear_cart()\n",
        "shopping_cart.view_cart()\n"
      ],
      "metadata": {
        "id": "yKsL3C4nqEC2",
        "colab": {
          "base_uri": "https://localhost:8080/"
        },
        "outputId": "9fff3b47-c2b6-4fc0-9bf1-54b850afd33d"
      },
      "execution_count": 4,
      "outputs": [
        {
          "output_type": "stream",
          "name": "stdout",
          "text": [
            "The shopping cart is empty.\n",
            "Item 'Product 1' added to the shopping cart.\n",
            "Item 'Product 2' added to the shopping cart.\n",
            "Items in the shopping cart:\n",
            "- Product 1\n",
            "- Product 2\n",
            "Item 'Product 1' removed from the shopping cart.\n",
            "Items in the shopping cart:\n",
            "- Product 2\n",
            "Shopping cart cleared.\n",
            "The shopping cart is empty.\n"
          ]
        }
      ]
    },
    {
      "cell_type": "code",
      "source": [],
      "metadata": {
        "id": "iRworizutQA_"
      },
      "execution_count": null,
      "outputs": []
    },
    {
      "cell_type": "markdown",
      "source": [
        "\n",
        "10. Imagine a school management system. You have to design the \"Student\" class using\n",
        "OOP concepts.The “Student” class has the following attributes:\n",
        "\n",
        "a. name: Represents the name of the student.\n",
        "\n",
        "b. age: Represents the age of the student.\n",
        "\n",
        "c. grade: Represents the grade or class of the student.\n",
        "\n",
        "d. student_id: Represents the unique identifier for the student.\n",
        "\n",
        "e. attendance: Represents the attendance record of the student.\n",
        "\n",
        " The class should also include the following methods:\n",
        "\n",
        "       a. update_attendance(self, date, status): Updates the attendance record of the\n",
        "       student for a given date with the provided status (e.g., present or absent).\n",
        "       b. get_attendance(self): Returns the attendance record of the student.\n",
        "       c. get_average_attendance(self): Calculates and returns the average\n",
        "       attendance percentage of the student based on their attendance record."
      ],
      "metadata": {
        "id": "1vwhpGFYc1DY"
      }
    },
    {
      "cell_type": "code",
      "source": [
        "class Student:\n",
        "    def __init__(self, name, age, grade, student_id):\n",
        "        self.name = name\n",
        "        self.age = age\n",
        "        self.grade = grade\n",
        "        self.student_id = student_id\n",
        "        self.attendance = {}  # Using a dictionary to store attendance with dates as keys and statuses as values\n",
        "\n",
        "    def update_attendance(self, date, status):\n",
        "        self.attendance[date] = status\n",
        "        print(f\"Attendance updated for {self.name} on {date}: {status}\")\n",
        "\n",
        "    def get_attendance(self):\n",
        "        return self.attendance\n",
        "\n",
        "    def get_average_attendance(self):\n",
        "        if not self.attendance:\n",
        "            return 0.0  # Return 0 if no attendance records are available\n",
        "\n",
        "        total_days = len(self.attendance)\n",
        "        present_days = sum(1 for status in self.attendance.values() if status.lower() == 'present')\n",
        "        average_percentage = (present_days / total_days) * 100\n",
        "\n",
        "        return round(average_percentage, 2)\n",
        "\n",
        "student1 = Student(\"John Doe\", 15, \"10th Grade\", \"S12345\")\n",
        "\n",
        "student1.update_attendance(\"2024-02-01\", \"Present\")\n",
        "student1.update_attendance(\"2024-02-02\", \"Absent\")\n",
        "student1.update_attendance(\"2024-02-03\", \"Present\")\n",
        "\n",
        "attendance_record = student1.get_attendance()\n",
        "print(f\"{student1.name}'s Attendance Record: {attendance_record}\")\n",
        "\n",
        "average_attendance = student1.get_average_attendance()\n",
        "print(f\"{student1.name}'s Average Attendance: {average_attendance}%\")\n"
      ],
      "metadata": {
        "id": "a83v7k0ItVk_",
        "colab": {
          "base_uri": "https://localhost:8080/"
        },
        "outputId": "fa2c304a-c6d2-48ee-ca80-8b27f2efe424"
      },
      "execution_count": 5,
      "outputs": [
        {
          "output_type": "stream",
          "name": "stdout",
          "text": [
            "Attendance updated for John Doe on 2024-02-01: Present\n",
            "Attendance updated for John Doe on 2024-02-02: Absent\n",
            "Attendance updated for John Doe on 2024-02-03: Present\n",
            "John Doe's Attendance Record: {'2024-02-01': 'Present', '2024-02-02': 'Absent', '2024-02-03': 'Present'}\n",
            "John Doe's Average Attendance: 66.67%\n"
          ]
        }
      ]
    },
    {
      "cell_type": "code",
      "source": [],
      "metadata": {
        "id": "ySyOErUQqEt3"
      },
      "execution_count": null,
      "outputs": []
    },
    {
      "cell_type": "code",
      "source": [],
      "metadata": {
        "id": "NtQa_0zXtnon"
      },
      "execution_count": null,
      "outputs": []
    }
  ]
}