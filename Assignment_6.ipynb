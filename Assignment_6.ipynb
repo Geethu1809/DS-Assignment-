{
  "nbformat": 4,
  "nbformat_minor": 0,
  "metadata": {
    "colab": {
      "provenance": []
    },
    "kernelspec": {
      "name": "python3",
      "display_name": "Python 3"
    },
    "language_info": {
      "name": "python"
    }
  },
  "cells": [
    {
      "cell_type": "markdown",
      "source": [
        "***Python Basic - 1***\n"
      ],
      "metadata": {
        "id": "9HYjng_-MnG2"
      }
    },
    {
      "cell_type": "markdown",
      "source": [
        "\n",
        "Q.1. What are keywords in python? Using the keyword library, print all the python keywords.\n"
      ],
      "metadata": {
        "id": "GLDV7P7zMoco"
      }
    },
    {
      "cell_type": "code",
      "source": [
        "import keyword\n",
        "print(keyword.kwlist)"
      ],
      "metadata": {
        "colab": {
          "base_uri": "https://localhost:8080/"
        },
        "id": "mu_cWKOtZxZr",
        "outputId": "a1784ba4-620a-470e-ac36-27c9163de804"
      },
      "execution_count": null,
      "outputs": [
        {
          "output_type": "stream",
          "name": "stdout",
          "text": [
            "['False', 'None', 'True', 'and', 'as', 'assert', 'async', 'await', 'break', 'class', 'continue', 'def', 'del', 'elif', 'else', 'except', 'finally', 'for', 'from', 'global', 'if', 'import', 'in', 'is', 'lambda', 'nonlocal', 'not', 'or', 'pass', 'raise', 'return', 'try', 'while', 'with', 'yield']\n"
          ]
        }
      ]
    },
    {
      "cell_type": "markdown",
      "source": [
        "Q.2. What are the rules to create variables in python?\n"
      ],
      "metadata": {
        "id": "h4Wn4VKiMofM"
      }
    },
    {
      "cell_type": "code",
      "source": [
        "A variable name must start with a letter or the underscore character\n",
        "A variable name cannot start with a number\n",
        "A variable name can only contain alpha-numeric characters and underscores (A-z, 0-9, and _ )\n",
        "Variable names are case-sensitive (age, Age and AGE are three different variables)\n",
        "The reserved words(keywords) in Python cannot be used to name the variable in Python."
      ],
      "metadata": {
        "id": "06OtQzTddiVk"
      },
      "execution_count": null,
      "outputs": []
    },
    {
      "cell_type": "markdown",
      "source": [
        "Q.3. What are the standards and conventions followed for the nomenclature of variables in\n",
        "python to improve code readability and maintainability?\n"
      ],
      "metadata": {
        "id": "YYDbKJGnMohr"
      }
    },
    {
      "cell_type": "code",
      "source": [
        " Use descriptive names: Choose meaningful and descriptive names for variables that accurately represent their purpose or content. This helps in understanding the code's functionality.\n",
        " Avoid reserved words: Do not use Python's reserved keywords (e.g., `if`, `for`, `while`, etc.) as variable names.\n",
        " Be consistent: Maintain consistency in naming conventions throughout your codebase. If you use a specific naming style for variables, stick to it consistently.\n",
        " Use readable names: Prioritize readability over brevity. It's better to have longer, descriptive names that are easy to understand rather than short, cryptic ones.\n",
        " Use meaningful abbreviations: If abbreviations are used, ensure they are widely recognized and make the code more readable. Avoid excessive or obscure abbreviations.\n"
      ],
      "metadata": {
        "id": "O2YX1Z2KeUB0"
      },
      "execution_count": null,
      "outputs": []
    },
    {
      "cell_type": "markdown",
      "source": [
        "Q.4. What will happen if a keyword is used as a variable name?\n"
      ],
      "metadata": {
        "id": "qKYjnjdNMokI"
      }
    },
    {
      "cell_type": "code",
      "source": [
        "If a keyword is used as a variable name, it can lead to errors or unexpected behavior in the program. Keywords are reserved words in programming languages that have predefined meanings and purposes.\n",
        "It can cause conflicts with the language's syntax and cause the program to behave differently than intended."
      ],
      "metadata": {
        "id": "2RLkyYCcgYOs"
      },
      "execution_count": null,
      "outputs": []
    },
    {
      "cell_type": "markdown",
      "source": [
        "Q.5. For what purpose def keyword is used?\n"
      ],
      "metadata": {
        "id": "TuDrKkg2Mom0"
      }
    },
    {
      "cell_type": "code",
      "source": [
        "def keyword is used to define a function, it is placed before a function name that is provided by the user to create a user-defined function.\n",
        "Used to create a new function and specifying its name."
      ],
      "metadata": {
        "id": "1F-Iw0J0MfR9"
      },
      "execution_count": null,
      "outputs": []
    },
    {
      "cell_type": "markdown",
      "source": [
        "Q.6. What is the operation of this special character ‘\\’?\n"
      ],
      "metadata": {
        "id": "Fiudc53IMopS"
      }
    },
    {
      "cell_type": "code",
      "source": [
        "To insert characters that are illegal in a string, use an escape character.\n",
        "An escape character is a backslash \\"
      ],
      "metadata": {
        "id": "HpJsWAY_OSb9"
      },
      "execution_count": null,
      "outputs": []
    },
    {
      "cell_type": "markdown",
      "source": [
        "Q.7. Give an example of the following conditions:\n",
        "  \n",
        "(i) Homogeneous list\n",
        "  \n",
        "(ii) Heterogeneous set\n",
        "\n",
        "(iii) Homogeneous tuple\n"
      ],
      "metadata": {
        "id": "YRlZoYiZMor0"
      }
    },
    {
      "cell_type": "code",
      "source": [
        "Homogeneous list: A homogeneous list is a list where all the elements have the same data type.\n",
        "A list is created by placing items (elements) inside square brackets [], separated by commas.\n",
        "For example:\n",
        "- [1, 2, 3, 4, 5] # integers.\n",
        "- ['apple', 'banana', 'orange'] # strings.\n"
      ],
      "metadata": {
        "id": "m-A2KbAkSAOV"
      },
      "execution_count": null,
      "outputs": []
    },
    {
      "cell_type": "code",
      "source": [
        "\n",
        "(ii) Heterogeneous set: A heterogeneous set is a set where the elements can have different data types.\n",
        "For example:\n",
        "- {1, 'apple', True} # contains an integer, a string, and a boolean value.\n"
      ],
      "metadata": {
        "id": "wyYRYsr_QAPk"
      },
      "execution_count": null,
      "outputs": []
    },
    {
      "cell_type": "code",
      "source": [
        "\n",
        "(iii) Homogeneous tuple: A homogeneous tuple is a tuple where all the elements have the same data type.\n",
        " Like lists, a tuple can also contain elements of different types: integers, floats, strings, and even other tuples or lists.\n",
        " For example:\n",
        "- (10, 20, 30, 40)# integers.\n",
        "- ('Monday', 'Tuesday', 'Wednesday')# strings."
      ],
      "metadata": {
        "id": "i2aIwkhaQAG9"
      },
      "execution_count": null,
      "outputs": []
    },
    {
      "cell_type": "markdown",
      "source": [
        "Q.8. Explain the mutable and immutable data types with proper explanation & examples.\n"
      ],
      "metadata": {
        "id": "fo84R0NuMoup"
      }
    },
    {
      "cell_type": "code",
      "source": [
        "Mutable data types are those whose values can be changed after they are created. Operations performed on mutable objects directly modify the object itself, without creating a new object.\n",
        "Examples of mutable data types :- lists, dictionaries, and sets."
      ],
      "metadata": {
        "id": "AFgl3YgzTVyl"
      },
      "execution_count": null,
      "outputs": []
    },
    {
      "cell_type": "code",
      "source": [
        "Immutable data types are those whose values cannot be changed after they are created. Any operation that appears to modify an immutable object actually creates a new object with the modified value.\n",
        "Examples of immutable data types:- integers, floating-point numbers, booleans, and strings."
      ],
      "metadata": {
        "id": "hTWg1XGGS3Z9"
      },
      "execution_count": null,
      "outputs": []
    },
    {
      "cell_type": "markdown",
      "source": [
        "Q.9. Write a code to create the given structure using only for loop.\n",
        "\n",
        "        *\n",
        "       ***\n",
        "      *****\n",
        "     *******\n",
        "    *********"
      ],
      "metadata": {
        "id": "8hpV-L8EMox-"
      }
    },
    {
      "cell_type": "code",
      "source": [
        "rows = int(input(\"Enter the number of rows\"));\n",
        "for i in range(0, rows):  #rows\n",
        "\tfor j in range(0, rows-i-1): #space\n",
        "\t\tprint(end=\" \")\n",
        "\tfor j in range(0, 2*i+1): #colm\n",
        "\t\tprint(\"*\", end=\"\")\n",
        "\tprint()"
      ],
      "metadata": {
        "colab": {
          "base_uri": "https://localhost:8080/"
        },
        "id": "LertD3BaThR2",
        "outputId": "589ac068-3cd8-4af9-c82d-45aec1a9f74f"
      },
      "execution_count": null,
      "outputs": [
        {
          "output_type": "stream",
          "name": "stdout",
          "text": [
            "Enter the number of rows5\n",
            "    *\n",
            "   ***\n",
            "  *****\n",
            " *******\n",
            "*********\n"
          ]
        }
      ]
    },
    {
      "cell_type": "markdown",
      "source": [
        "Q.10. Write a code to create the given structure using while loop.\n",
        "        \n",
        "         |||||||||\n",
        "          |||||||\n",
        "           |||||\n",
        "            |||\n",
        "             |"
      ],
      "metadata": {
        "id": "iOUwBBIaMnJQ"
      }
    },
    {
      "cell_type": "code",
      "source": [
        "def pattern(rows):\n",
        "   i= rows\n",
        "   while i>=1:\n",
        "      # printing stars\n",
        "      print(\" \"*(rows-i) + \"| \" * i)\n",
        "      i-=2\n",
        "# take inputs\n",
        "rows = int(input('Enter the number of rows: '))\n",
        "# calling function\n",
        "pattern(rows)\n"
      ],
      "metadata": {
        "colab": {
          "base_uri": "https://localhost:8080/"
        },
        "id": "Nf82C9IYTh4F",
        "outputId": "97cdf79f-fbf6-4c98-a870-85ca69ea7f2a"
      },
      "execution_count": null,
      "outputs": [
        {
          "output_type": "stream",
          "name": "stdout",
          "text": [
            "Enter the number of rows: 9\n",
            "| | | | | | | | | \n",
            "  | | | | | | | \n",
            "    | | | | | \n",
            "      | | | \n",
            "        | \n"
          ]
        }
      ]
    },
    {
      "cell_type": "code",
      "source": [],
      "metadata": {
        "id": "Rr95w44aktEO"
      },
      "execution_count": null,
      "outputs": []
    }
  ]
}