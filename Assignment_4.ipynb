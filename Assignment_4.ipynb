{
  "nbformat": 4,
  "nbformat_minor": 0,
  "metadata": {
    "colab": {
      "provenance": []
    },
    "kernelspec": {
      "name": "python3",
      "display_name": "Python 3"
    },
    "language_info": {
      "name": "python"
    }
  },
  "cells": [
    {
      "cell_type": "markdown",
      "source": [
        "1. What exactly is []?\n"
      ],
      "metadata": {
        "id": "RV_Whj_PrwLF"
      }
    },
    {
      "cell_type": "code",
      "source": [
        "In Python, `[]` represents an empty list.\n",
        "Empty list with no elements."
      ],
      "metadata": {
        "id": "LHD1oi30sXUt"
      },
      "execution_count": null,
      "outputs": []
    },
    {
      "cell_type": "markdown",
      "source": [
        "2. In a list of values stored in a variable called spam, how would you assign the value 'hello' as the third value? (Assume [2, 4, 6, 8, 10] are in spam.)\n",
        "Let's pretend the spam includes the list ['a', 'b', 'c', 'd'] for the next three queries.\n"
      ],
      "metadata": {
        "id": "lIrR3RNyrwON"
      }
    },
    {
      "cell_type": "code",
      "source": [
        "spam=[2,4,6,8,10]\n",
        "spam[2]='Hello'\n",
        "print(spam)"
      ],
      "metadata": {
        "colab": {
          "base_uri": "https://localhost:8080/"
        },
        "id": "Kv8cQSnqtdWV",
        "outputId": "e52e09db-dd61-48ce-c93b-fe82a6dbe9a6"
      },
      "execution_count": null,
      "outputs": [
        {
          "output_type": "stream",
          "name": "stdout",
          "text": [
            "[2, 4, 'Hello', 8, 10]\n"
          ]
        }
      ]
    },
    {
      "cell_type": "code",
      "source": [
        "spam=['a','b','c','d']\n",
        "spam[2]='Hello'\n",
        "print(spam)"
      ],
      "metadata": {
        "colab": {
          "base_uri": "https://localhost:8080/"
        },
        "id": "XLGp08vxwCBd",
        "outputId": "041dce66-c4cc-43ed-ca47-c1117168bf1e"
      },
      "execution_count": null,
      "outputs": [
        {
          "output_type": "stream",
          "name": "stdout",
          "text": [
            "['a', 'b', 'Hello', 'd']\n"
          ]
        }
      ]
    },
    {
      "cell_type": "markdown",
      "source": [
        "3. What is the value of spam[int(int('3' * 2) / 11)]?\n"
      ],
      "metadata": {
        "id": "ORGZKavirwQ-"
      }
    },
    {
      "cell_type": "code",
      "source": [
        "spam=[int(int('3' * 2) / 11)]\n",
        "print(spam)"
      ],
      "metadata": {
        "colab": {
          "base_uri": "https://localhost:8080/"
        },
        "id": "mxEbp2AUvOIt",
        "outputId": "d924f057-e2b0-468f-e49d-4d9ef02ab1d7"
      },
      "execution_count": null,
      "outputs": [
        {
          "output_type": "stream",
          "name": "stdout",
          "text": [
            "[3]\n"
          ]
        }
      ]
    },
    {
      "cell_type": "code",
      "source": [
        "spam = ['a', 'b', 'c', 'd']\n",
        "spam[int(int('3' * 2) // 11)] # returns 'd'\n",
        "#`spam[3]` refers to the fourth element in the list `spam`. Since Python uses zero-based indexing, the fourth element in the list is \"d\"."
      ],
      "metadata": {
        "colab": {
          "base_uri": "https://localhost:8080/",
          "height": 35
        },
        "id": "H9PVfkFWxOd2",
        "outputId": "131e0e30-29ec-4cec-e0db-bb619195e70a"
      },
      "execution_count": null,
      "outputs": [
        {
          "output_type": "execute_result",
          "data": {
            "text/plain": [
              "'d'"
            ],
            "application/vnd.google.colaboratory.intrinsic+json": {
              "type": "string"
            }
          },
          "metadata": {},
          "execution_count": 7
        }
      ]
    },
    {
      "cell_type": "markdown",
      "source": [
        "4. What is the value of spam[-1]?\n"
      ],
      "metadata": {
        "id": "Whzd1X2FrwUd"
      }
    },
    {
      "cell_type": "code",
      "source": [
        "spam=['a','b','c','d']\n",
        "spam[-1]#Negative indexes count from the end.\n",
        "#In Negative index will be counted from backwards of list."
      ],
      "metadata": {
        "colab": {
          "base_uri": "https://localhost:8080/",
          "height": 35
        },
        "id": "VEyA6-wFwedN",
        "outputId": "a42a32f5-d713-4fb7-b042-f75c05599d83"
      },
      "execution_count": null,
      "outputs": [
        {
          "output_type": "execute_result",
          "data": {
            "text/plain": [
              "'d'"
            ],
            "application/vnd.google.colaboratory.intrinsic+json": {
              "type": "string"
            }
          },
          "metadata": {},
          "execution_count": 8
        }
      ]
    },
    {
      "cell_type": "markdown",
      "source": [
        "5. What is the value of spam[:2]?\n"
      ],
      "metadata": {
        "id": "X5OxkVgFrwXe"
      }
    },
    {
      "cell_type": "code",
      "source": [
        "spam[:2]"
      ],
      "metadata": {
        "colab": {
          "base_uri": "https://localhost:8080/"
        },
        "id": "R0sgFX1dzO_9",
        "outputId": "abd2138c-a7a1-4e39-e616-ef4a18707e41"
      },
      "execution_count": null,
      "outputs": [
        {
          "output_type": "execute_result",
          "data": {
            "text/plain": [
              "['a', 'b']"
            ]
          },
          "metadata": {},
          "execution_count": 10
        }
      ]
    },
    {
      "cell_type": "markdown",
      "source": [
        "*Let's pretend bacon has the list [3.14, 'cat' 11, 'cat' True] for the next three questions.*"
      ],
      "metadata": {
        "id": "6E1MrnOtz1CW"
      }
    },
    {
      "cell_type": "markdown",
      "source": [
        "6. What is the value of bacon.index('cat')?\n"
      ],
      "metadata": {
        "id": "KB9GNHysrwaN"
      }
    },
    {
      "cell_type": "code",
      "source": [
        "bacon= [3.14,'cat',11,'cat',True]\n",
        "bacon.index('cat') # it returns the index of first occurrence of 'cat'"
      ],
      "metadata": {
        "colab": {
          "base_uri": "https://localhost:8080/"
        },
        "id": "2hlAiIwPz8zV",
        "outputId": "2743349f-529a-4d57-f109-65d0daf9d00c"
      },
      "execution_count": null,
      "outputs": [
        {
          "output_type": "execute_result",
          "data": {
            "text/plain": [
              "1"
            ]
          },
          "metadata": {},
          "execution_count": 12
        }
      ]
    },
    {
      "cell_type": "markdown",
      "source": [
        "7. How does bacon.append(99) change the look of the list value in bacon?\n"
      ],
      "metadata": {
        "id": "5MtLufpSrwdM"
      }
    },
    {
      "cell_type": "code",
      "source": [
        "bacon= [3.14,'cat',11,'cat',True]\n",
        "bacon.append(99)\n",
        "# append adds the item at the end of the list\n",
        "print(bacon)"
      ],
      "metadata": {
        "colab": {
          "base_uri": "https://localhost:8080/"
        },
        "id": "FLq2iEPi0XcF",
        "outputId": "1c8d4aaf-2300-458e-e9d3-a8dc2bc0a7df"
      },
      "execution_count": null,
      "outputs": [
        {
          "output_type": "stream",
          "name": "stdout",
          "text": [
            "[3.14, 'cat', 11, 'cat', True, 99]\n"
          ]
        }
      ]
    },
    {
      "cell_type": "markdown",
      "source": [
        "8. How does bacon.remove('cat') change the look of the list in bacon?\n"
      ],
      "metadata": {
        "id": "Q8dx7e1QrwgE"
      }
    },
    {
      "cell_type": "code",
      "source": [
        "bacon= [3.14,'cat',11,'cat',True]\n",
        "bacon.remove('cat')\n",
        "# remove first occurrence of item\n",
        "bacon"
      ],
      "metadata": {
        "colab": {
          "base_uri": "https://localhost:8080/"
        },
        "id": "oHbID3sP0bSV",
        "outputId": "9c922777-659d-479a-83db-8c46d647c4b1"
      },
      "execution_count": null,
      "outputs": [
        {
          "output_type": "execute_result",
          "data": {
            "text/plain": [
              "[3.14, 11, 'cat', True]"
            ]
          },
          "metadata": {},
          "execution_count": 15
        }
      ]
    },
    {
      "cell_type": "markdown",
      "source": [
        "9. What are the list concatenation and list replication operators?\n"
      ],
      "metadata": {
        "id": "UaPaqo8trwi8"
      }
    },
    {
      "cell_type": "code",
      "source": [
        "#The list concatenation operator is the `+` symbol.\n",
        "#It is used to combine two or more lists into a single list.\n",
        "List1=[1,2,3]\n",
        "List2=[4,5,6]\n",
        "Result= List1+ List2\n",
        "print(Result)"
      ],
      "metadata": {
        "colab": {
          "base_uri": "https://localhost:8080/"
        },
        "id": "kHaNQMID0opm",
        "outputId": "c92c2eb6-1e85-4931-a96a-6553d3cce893"
      },
      "execution_count": null,
      "outputs": [
        {
          "output_type": "stream",
          "name": "stdout",
          "text": [
            "[1, 2, 3, 4, 5, 6]\n"
          ]
        }
      ]
    },
    {
      "cell_type": "code",
      "source": [
        "#The list replication operator is the `*` symbol.\n",
        "#It is used to create a new list by repeating the elements of an existing list a certain number of times.\n",
        "List1=[1,2,3]\n",
        "Result= List1*5\n",
        "print(Result)"
      ],
      "metadata": {
        "colab": {
          "base_uri": "https://localhost:8080/"
        },
        "id": "FkosIAuM7kd4",
        "outputId": "7d46a1d4-fc9d-44b2-eec5-d9fca3543b62"
      },
      "execution_count": null,
      "outputs": [
        {
          "output_type": "stream",
          "name": "stdout",
          "text": [
            "[1, 2, 3, 1, 2, 3, 1, 2, 3, 1, 2, 3, 1, 2, 3]\n"
          ]
        }
      ]
    },
    {
      "cell_type": "markdown",
      "source": [
        "10. What is difference between the list methods append() and insert()?"
      ],
      "metadata": {
        "id": "XEvS_qKZrwoM"
      }
    },
    {
      "cell_type": "code",
      "source": [
        "# Adding an item to the end of the list using append()\n",
        "frds=['vinu','sinchu','geet']\n",
        "print(frds)\n",
        "frds.append('chandu')\n",
        "print(\"After Append: \",frds)"
      ],
      "metadata": {
        "colab": {
          "base_uri": "https://localhost:8080/"
        },
        "id": "KDNUEuEE8HpQ",
        "outputId": "a60f4c2b-47f6-4d49-d01b-206b347dc346"
      },
      "execution_count": null,
      "outputs": [
        {
          "output_type": "stream",
          "name": "stdout",
          "text": [
            "['vinu', 'sinchu', 'geet']\n",
            "After Append:  ['vinu', 'sinchu', 'geet', 'chandu']\n"
          ]
        }
      ]
    },
    {
      "cell_type": "code",
      "source": [
        "# Adding an item at a specific position using insert()\n",
        "frds=['vinu','sinchu','geet']\n",
        "print(frds)\n",
        "frds.insert(1,'chandu')\n",
        "print(\"After Append: \",frds)"
      ],
      "metadata": {
        "colab": {
          "base_uri": "https://localhost:8080/"
        },
        "id": "3mG428dB-3Oi",
        "outputId": "07f9cb39-e5b9-4235-c9d0-9576de2693f7"
      },
      "execution_count": null,
      "outputs": [
        {
          "output_type": "stream",
          "name": "stdout",
          "text": [
            "['vinu', 'sinchu', 'geet']\n",
            "After Append:  ['vinu', 'chandu', 'sinchu', 'geet']\n"
          ]
        }
      ]
    },
    {
      "cell_type": "markdown",
      "source": [
        "\n",
        "11. What are the two methods for removing items from a list?\n"
      ],
      "metadata": {
        "id": "bDuRwfZUrwrl"
      }
    },
    {
      "cell_type": "code",
      "source": [
        "# Removing an item by index using pop()\n",
        "List=[1,2,3,4,5,6,7,8,9,0]\n",
        "print(List)\n",
        "remove=List.pop(1)\n",
        "print(f\"After pop: {List}, removed item: {remove}\")"
      ],
      "metadata": {
        "colab": {
          "base_uri": "https://localhost:8080/"
        },
        "id": "izYsbD0U-2BQ",
        "outputId": "71e00f04-1a4c-4ac7-fe0e-58721de94daa"
      },
      "execution_count": null,
      "outputs": [
        {
          "output_type": "stream",
          "name": "stdout",
          "text": [
            "[1, 2, 3, 4, 5, 6, 7, 8, 9, 0]\n",
            "After pop: [1, 3, 4, 5, 6, 7, 8, 9, 0], removed item: 2\n"
          ]
        }
      ]
    },
    {
      "cell_type": "code",
      "source": [
        "# Removing an item by value using remove()\n",
        "List=[1,2,3,4,5,6,7,8,9,0]\n",
        "print(\"\\nBefore remove: \", List)\n",
        "List.remove(4)\n",
        "print(\"After remove: \", List)\n"
      ],
      "metadata": {
        "colab": {
          "base_uri": "https://localhost:8080/"
        },
        "id": "FwQ4HOGqEE63",
        "outputId": "45d72845-ef13-44ec-8de5-1cdefd4fcfb4"
      },
      "execution_count": null,
      "outputs": [
        {
          "output_type": "stream",
          "name": "stdout",
          "text": [
            "\n",
            "Before remove:  [1, 2, 3, 4, 5, 6, 7, 8, 9, 0]\n",
            "After remove:  [1, 2, 3, 5, 6, 7, 8, 9, 0]\n"
          ]
        }
      ]
    },
    {
      "cell_type": "markdown",
      "source": [
        "12. Describe how list values and string values are identical.\n"
      ],
      "metadata": {
        "id": "KA9Xzclkrwut"
      }
    },
    {
      "cell_type": "code",
      "source": [
        "1. Both lists and strings are ordered sequences of elements. This means that the elements in both lists and strings have a specific order or position.\n",
        "\n",
        "2. Both lists and strings can be accessed using indexing. You can use square brackets and an index number to access individual elements within a list or string.\n",
        "\n",
        "3. Both lists and strings support slicing. Slicing allows you to extract a portion of the list or string by specifying a range of indices.\n",
        "\n",
        "4. Both lists and strings can be iterated over using loops. You can use a loop to iterate through each element in a list or each character in a string.\n",
        "\n",
        "5. Both lists and strings can be concatenated or replicated.\n",
        "\n",
        "6. Both lists and strings can be used with the in and not in operators.\n"
      ],
      "metadata": {
        "id": "977vZMN5FaBh"
      },
      "execution_count": null,
      "outputs": []
    },
    {
      "cell_type": "markdown",
      "source": [
        "13. What's the difference between tuples and lists?\n"
      ],
      "metadata": {
        "id": "yTfV_wJhrwx0"
      }
    },
    {
      "cell_type": "code",
      "source": [
        "1. Tuples are immutable(they cannot be changed at all), while lists are mutable(they can have values added, removed, or changed).\n",
        "2. Tuples are commonly used to store related pieces of data together, while Lists are often used to store and manipulate a collection of items.\n",
        "3. Tuples are written using parentheses ( ) , while lists use the square brackets [ ] ."
      ],
      "metadata": {
        "id": "te-fBMmbHRvZ"
      },
      "execution_count": null,
      "outputs": []
    },
    {
      "cell_type": "markdown",
      "source": [
        "14. How do you type a tuple value that only contains the integer 42?\n"
      ],
      "metadata": {
        "id": "KruRbTBwrw0t"
      }
    },
    {
      "cell_type": "code",
      "source": [
        "tuple= (42,)#The comma after the integer 42 is necessary to differentiate it from an integer value without parentheses\n",
        "print(tuple)"
      ],
      "metadata": {
        "colab": {
          "base_uri": "https://localhost:8080/"
        },
        "id": "vGlljQH_KSia",
        "outputId": "e91fea30-c373-4f57-f6ca-a8af87dbfc05"
      },
      "execution_count": null,
      "outputs": [
        {
          "output_type": "stream",
          "name": "stdout",
          "text": [
            "(42,)\n"
          ]
        }
      ]
    },
    {
      "cell_type": "markdown",
      "source": [
        "15. How do you get a list value's tuple form? How do you get a tuple value's list form?\n"
      ],
      "metadata": {
        "id": "W-L5KQNrrw31"
      }
    },
    {
      "cell_type": "code",
      "source": [
        "#tuple(listname)\n",
        "L1 = [1, 2, 3, 4, 5]\n",
        "Result = tuple(L1)\n",
        "print(Result)"
      ],
      "metadata": {
        "colab": {
          "base_uri": "https://localhost:8080/",
          "height": 217
        },
        "id": "6GeaiOo2Q0Bi",
        "outputId": "9e6fb7e1-8e69-4128-9a50-02adc3308703"
      },
      "execution_count": null,
      "outputs": [
        {
          "output_type": "error",
          "ename": "TypeError",
          "evalue": "ignored",
          "traceback": [
            "\u001b[0;31m---------------------------------------------------------------------------\u001b[0m",
            "\u001b[0;31mTypeError\u001b[0m                                 Traceback (most recent call last)",
            "\u001b[0;32m<ipython-input-49-f6962ac62c1b>\u001b[0m in \u001b[0;36m<cell line: 3>\u001b[0;34m()\u001b[0m\n\u001b[1;32m      1\u001b[0m \u001b[0;31m#tuple(listname)\u001b[0m\u001b[0;34m\u001b[0m\u001b[0;34m\u001b[0m\u001b[0m\n\u001b[1;32m      2\u001b[0m \u001b[0mL1\u001b[0m \u001b[0;34m=\u001b[0m \u001b[0;34m[\u001b[0m\u001b[0;36m1\u001b[0m\u001b[0;34m,\u001b[0m \u001b[0;36m2\u001b[0m\u001b[0;34m,\u001b[0m \u001b[0;36m3\u001b[0m\u001b[0;34m,\u001b[0m \u001b[0;36m4\u001b[0m\u001b[0;34m,\u001b[0m \u001b[0;36m5\u001b[0m\u001b[0;34m]\u001b[0m\u001b[0;34m\u001b[0m\u001b[0;34m\u001b[0m\u001b[0m\n\u001b[0;32m----> 3\u001b[0;31m \u001b[0mResult\u001b[0m \u001b[0;34m=\u001b[0m \u001b[0mtuple\u001b[0m\u001b[0;34m(\u001b[0m\u001b[0mL1\u001b[0m\u001b[0;34m)\u001b[0m\u001b[0;34m\u001b[0m\u001b[0;34m\u001b[0m\u001b[0m\n\u001b[0m\u001b[1;32m      4\u001b[0m \u001b[0mprint\u001b[0m\u001b[0;34m(\u001b[0m\u001b[0mResult\u001b[0m\u001b[0;34m)\u001b[0m\u001b[0;34m\u001b[0m\u001b[0;34m\u001b[0m\u001b[0m\n",
            "\u001b[0;31mTypeError\u001b[0m: 'tuple' object is not callable"
          ]
        }
      ]
    },
    {
      "cell_type": "code",
      "source": [
        "#list(tuplename)\n",
        "L1 = (1, 2, 3, 4, 5)\n",
        "Result = list(L1)\n",
        "print(Result)"
      ],
      "metadata": {
        "colab": {
          "base_uri": "https://localhost:8080/"
        },
        "id": "MtGjM9jlMWYj",
        "outputId": "eb0ca931-b15d-4b1d-e133-00de360052fc"
      },
      "execution_count": null,
      "outputs": [
        {
          "output_type": "stream",
          "name": "stdout",
          "text": [
            "[1, 2, 3, 4, 5]\n"
          ]
        }
      ]
    },
    {
      "cell_type": "markdown",
      "source": [
        "16. Variables that \"contain\" list values are not necessarily lists themselves. Instead, what do they contain?\n"
      ],
      "metadata": {
        "id": "E9IRJHZZrw7F"
      }
    },
    {
      "cell_type": "code",
      "source": [
        "Variables will contain references to list values rather than list values themselves."
      ],
      "metadata": {
        "id": "BYYNwQYALiAK"
      },
      "execution_count": null,
      "outputs": []
    },
    {
      "cell_type": "markdown",
      "source": [
        "17. How do you distinguish between copy.copy() and copy.deepcopy()?\n",
        "\n"
      ],
      "metadata": {
        "id": "fP-Wvp7brw-d"
      }
    },
    {
      "cell_type": "code",
      "source": [
        "copy.copy()\n",
        "-it is syntax of Shallow copy\n",
        "-A shallow copy creates a new compound object and then references the objects contained in the original within it, which means it constructs a new collection object and then populates it with references to the child objects\n",
        "found in the original.\n",
        "-copy.copy() function will do a shallow copy of a list,\n",
        "\n",
        "\n",
        "copy.deepcopy()\n",
        "-it is syntax of Deep copy\n",
        "-A deep copy creates a new compound object before inserting copies of the items found in the original into it in a recursive manner, which means first constructing a new collection object and then recursively populating it\n",
        "with copies of the child objects found in the original.\n",
        "-The copy.deepcopy() function will do a deep copy of a list. only copy.deepcopy() will duplicate any lists inside the list"
      ],
      "metadata": {
        "id": "krlS0QCNLiqD"
      },
      "execution_count": null,
      "outputs": []
    }
  ]
}