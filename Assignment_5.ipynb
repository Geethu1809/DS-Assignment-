{
  "nbformat": 4,
  "nbformat_minor": 0,
  "metadata": {
    "colab": {
      "provenance": []
    },
    "kernelspec": {
      "name": "python3",
      "display_name": "Python 3"
    },
    "language_info": {
      "name": "python"
    }
  },
  "cells": [
    {
      "cell_type": "markdown",
      "source": [
        "\n",
        "1. What does an empty dictionary&#39;s code look like?\n"
      ],
      "metadata": {
        "id": "tVkSsVNsL02X"
      }
    },
    {
      "cell_type": "code",
      "source": [
        "# An empty pair of curly braces {} is an empty dictionary\n",
        "dict = {}\n",
        "type(dict)"
      ],
      "metadata": {
        "colab": {
          "base_uri": "https://localhost:8080/"
        },
        "id": "8UeFezO1HzVp",
        "outputId": "ab076ea0-8f1d-465c-976c-4899b5635854"
      },
      "execution_count": null,
      "outputs": [
        {
          "output_type": "execute_result",
          "data": {
            "text/plain": [
              "dict"
            ]
          },
          "metadata": {},
          "execution_count": 2
        }
      ]
    },
    {
      "cell_type": "markdown",
      "source": [
        "2. What is the value of a dictionary value with the key &#39;foo&#39; and the value 42?\n",
        "\n"
      ],
      "metadata": {
        "id": "0O18nOx9L044"
      }
    },
    {
      "cell_type": "code",
      "source": [
        "#The value of a dictionary value with the key 'foo' and the value 42 is 42.\n",
        "{'foo':42}"
      ],
      "metadata": {
        "colab": {
          "base_uri": "https://localhost:8080/"
        },
        "id": "EJtdH3g5Hz6v",
        "outputId": "98bff6a6-1633-42a6-c275-a343a13cb831"
      },
      "execution_count": null,
      "outputs": [
        {
          "output_type": "execute_result",
          "data": {
            "text/plain": [
              "{'foo': 42}"
            ]
          },
          "metadata": {},
          "execution_count": 4
        }
      ]
    },
    {
      "cell_type": "markdown",
      "source": [
        "3. What is the most significant distinction between a dictionary and a list?\n"
      ],
      "metadata": {
        "id": "5U0AQFJmL07i"
      }
    },
    {
      "cell_type": "code",
      "source": [
        "A dictionary is an unordered collection of key-value pairs, while a list is an ordered collection of elements.\n",
        "In a dictionary, values are accessed by their corresponding keys, whereas in a list, elements are accessed by their indices.\n",
        "Dictionaries are unordered and mutable, whereas List is ordered and mutable."
      ],
      "metadata": {
        "id": "n6mSyWUAH0dI"
      },
      "execution_count": null,
      "outputs": []
    },
    {
      "cell_type": "markdown",
      "source": [
        "4. What happens if you try to access spam[&#39;foo&#39;] if spam is {&#39;bar&#39;: 100}?\n"
      ],
      "metadata": {
        "id": "eYs-CbPmL0-B"
      }
    },
    {
      "cell_type": "code",
      "source": [
        " spam={'bar': 100}"
      ],
      "metadata": {
        "id": "LosID-VMSH86"
      },
      "execution_count": null,
      "outputs": []
    },
    {
      "cell_type": "code",
      "source": [
        " spam['foo'] #Key Error\n",
        " # because the key `'foo'` does not exist in the dictionary `spam`."
      ],
      "metadata": {
        "colab": {
          "base_uri": "https://localhost:8080/",
          "height": 183
        },
        "id": "IXGs-B_JH2GA",
        "outputId": "3b63674a-e69d-45e0-ea95-1674d6534956"
      },
      "execution_count": null,
      "outputs": [
        {
          "output_type": "error",
          "ename": "KeyError",
          "evalue": "ignored",
          "traceback": [
            "\u001b[0;31m---------------------------------------------------------------------------\u001b[0m",
            "\u001b[0;31mKeyError\u001b[0m                                  Traceback (most recent call last)",
            "\u001b[0;32m<ipython-input-8-443c27789478>\u001b[0m in \u001b[0;36m<cell line: 1>\u001b[0;34m()\u001b[0m\n\u001b[0;32m----> 1\u001b[0;31m \u001b[0mspam\u001b[0m\u001b[0;34m[\u001b[0m\u001b[0;34m'foo'\u001b[0m\u001b[0;34m]\u001b[0m\u001b[0;34m\u001b[0m\u001b[0;34m\u001b[0m\u001b[0m\n\u001b[0m\u001b[1;32m      2\u001b[0m \u001b[0;31m# because the key `'foo'` does not exist in the dictionary `spam`.\u001b[0m\u001b[0;34m\u001b[0m\u001b[0;34m\u001b[0m\u001b[0m\n",
            "\u001b[0;31mKeyError\u001b[0m: 'foo'"
          ]
        }
      ]
    },
    {
      "cell_type": "markdown",
      "source": [
        "5. If a dictionary is stored in spam, what is the difference between the expressions &#39;cat&#39; in spam and\n",
        "&#39;cat&#39; in spam.keys()?\n"
      ],
      "metadata": {
        "id": "WIsdLk7gL1Ai"
      }
    },
    {
      "cell_type": "code",
      "source": [
        "spam ={'cat':42}\n",
        "'cat' in spam"
      ],
      "metadata": {
        "colab": {
          "base_uri": "https://localhost:8080/"
        },
        "id": "Old4Wg3nH2pf",
        "outputId": "7693c850-9b69-467e-cbb8-6549957d9344"
      },
      "execution_count": null,
      "outputs": [
        {
          "output_type": "execute_result",
          "data": {
            "text/plain": [
              "True"
            ]
          },
          "metadata": {},
          "execution_count": 9
        }
      ]
    },
    {
      "cell_type": "code",
      "source": [
        "'cat' in spam.keys()\n",
        "#There is no difference\n",
        "#both expressions check for the existence of the key `'cat'` in the dictionary `spam`, but the second expression explicitly focuses on the keys of the dictionary."
      ],
      "metadata": {
        "colab": {
          "base_uri": "https://localhost:8080/"
        },
        "id": "2HoxyEp8S-H6",
        "outputId": "817fbda6-7eee-403d-fbc6-df57ffe0f66a"
      },
      "execution_count": null,
      "outputs": [
        {
          "output_type": "execute_result",
          "data": {
            "text/plain": [
              "True"
            ]
          },
          "metadata": {},
          "execution_count": 10
        }
      ]
    },
    {
      "cell_type": "markdown",
      "source": [
        "6. If a dictionary is stored in spam, what is the difference between the expressions &#39;cat&#39; in spam and\n",
        "&#39;cat&#39; in spam.values()?\n"
      ],
      "metadata": {
        "id": "WdyFG9ikL1C1"
      }
    },
    {
      "cell_type": "code",
      "source": [
        "spam ={'cat':100}\n",
        "'cat' in spam"
      ],
      "metadata": {
        "colab": {
          "base_uri": "https://localhost:8080/"
        },
        "id": "mjSz33WUH3G5",
        "outputId": "1e14dcbd-78ef-4600-9de8-affbdb202391"
      },
      "execution_count": null,
      "outputs": [
        {
          "output_type": "execute_result",
          "data": {
            "text/plain": [
              "True"
            ]
          },
          "metadata": {},
          "execution_count": 12
        }
      ]
    },
    {
      "cell_type": "code",
      "source": [
        "spam ={'cat':100}\n",
        "'cat' in spam.values()\n",
        "#`'cat' in spam` checks for the existence of the key `'cat'` in the dictionary `spam`, while `'cat' in spam.values()` checks for the existence of the value `'cat'` in the dictionary's values.\n"
      ],
      "metadata": {
        "colab": {
          "base_uri": "https://localhost:8080/"
        },
        "id": "Hxt29ZnLU-Nb",
        "outputId": "4def732f-8bca-4727-95b7-39442ad1799f"
      },
      "execution_count": null,
      "outputs": [
        {
          "output_type": "execute_result",
          "data": {
            "text/plain": [
              "False"
            ]
          },
          "metadata": {},
          "execution_count": 13
        }
      ]
    },
    {
      "cell_type": "markdown",
      "source": [
        "7. What is a shortcut for the following code?\n",
        "if &#39;color&#39; not in spam:\n",
        "spam[&#39;color&#39;] = &#39;black&#39;\n"
      ],
      "metadata": {
        "id": "rtiq-XK8L1FS"
      }
    },
    {
      "cell_type": "code",
      "source": [
        "spam ={'cat':42}\n",
        "spam.setdefault('color','black')\n",
        "spam\n",
        "#A shortcut for the given code is to use the `setdefault()` method."
      ],
      "metadata": {
        "colab": {
          "base_uri": "https://localhost:8080/"
        },
        "id": "6B0HTb3VH3ug",
        "outputId": "a3e28361-b2f6-42a7-a669-210d306413d4"
      },
      "execution_count": null,
      "outputs": [
        {
          "output_type": "execute_result",
          "data": {
            "text/plain": [
              "{'cat': 42, 'color': 'black'}"
            ]
          },
          "metadata": {},
          "execution_count": 15
        }
      ]
    },
    {
      "cell_type": "markdown",
      "source": [
        "\n",
        "8. How do you &quot;pretty print&quot; dictionary values using which module and function?\n"
      ],
      "metadata": {
        "id": "8sXnSnLnL1H8"
      }
    },
    {
      "cell_type": "code",
      "source": [
        "import json\n",
        "\n",
        "dict_array_1 = [\n",
        "         {'Name': 'geet', 'Age': '21', 'Branch': 'AI&ML'},\n",
        "         {'Name': 'jazz', 'Age': '21', 'Branch': 'CSE'},\n",
        "         {'Name': 'hari', 'Age': '21', 'Branch': 'AI&ML'},\n",
        "]\n",
        "\n",
        "print(dict_array_1)\n",
        "\n",
        "print(\"Case 1: Using the print function to print the array nested dictionary .\")\n",
        "\n",
        "print(dict_array_1)\n",
        "\n",
        "print(\"Case 2: Using json.dumps()  to print the array nested dictionary .\")\n",
        "\n",
        "pretty_print_1 = json.dumps(dict_array_1, sort_keys=True, indent=2)\n",
        "\n",
        "print(pretty_print_1)\n",
        "\n"
      ],
      "metadata": {
        "id": "gkUusvXWXxVt",
        "colab": {
          "base_uri": "https://localhost:8080/"
        },
        "outputId": "552d4285-19ab-478c-d8a6-fb75aa17d3af"
      },
      "execution_count": 1,
      "outputs": [
        {
          "output_type": "stream",
          "name": "stdout",
          "text": [
            "[{'Name': 'geet', 'Age': '21', 'Branch': 'AI&ML'}, {'Name': 'jazz', 'Age': '21', 'Branch': 'CSE'}, {'Name': 'hari', 'Age': '21', 'Branch': 'AI&ML'}]\n",
            "Case 1: Using the print function to print the array nested dictionary .\n",
            "[{'Name': 'geet', 'Age': '21', 'Branch': 'AI&ML'}, {'Name': 'jazz', 'Age': '21', 'Branch': 'CSE'}, {'Name': 'hari', 'Age': '21', 'Branch': 'AI&ML'}]\n",
            "Case 2: Using json.dumps()  to print the array nested dictionary .\n",
            "[\n",
            "  {\n",
            "    \"Age\": \"21\",\n",
            "    \"Branch\": \"AI&ML\",\n",
            "    \"Name\": \"geet\"\n",
            "  },\n",
            "  {\n",
            "    \"Age\": \"21\",\n",
            "    \"Branch\": \"CSE\",\n",
            "    \"Name\": \"jazz\"\n",
            "  },\n",
            "  {\n",
            "    \"Age\": \"21\",\n",
            "    \"Branch\": \"AI&ML\",\n",
            "    \"Name\": \"hari\"\n",
            "  }\n",
            "]\n"
          ]
        }
      ]
    },
    {
      "cell_type": "code",
      "source": [],
      "metadata": {
        "id": "xZRiLXqcXVbw"
      },
      "execution_count": null,
      "outputs": []
    }
  ]
}