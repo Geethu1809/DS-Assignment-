{
  "nbformat": 4,
  "nbformat_minor": 0,
  "metadata": {
    "colab": {
      "provenance": []
    },
    "kernelspec": {
      "name": "python3",
      "display_name": "Python 3"
    },
    "language_info": {
      "name": "python"
    }
  },
  "cells": [
    {
      "cell_type": "markdown",
      "source": [
        "***Python Basic - 2***\n"
      ],
      "metadata": {
        "id": "1pdcMH63O-IW"
      }
    },
    {
      "cell_type": "markdown",
      "source": [
        "\n",
        "Q.1. Create two int type variables, apply addition, subtraction, division and multiplications\n",
        "and store the results in variables. Then print the data in the following format by calling the\n",
        "variables:\n",
        "\n",
        "First variable is __ & second variable is __.\n",
        "\n",
        "Addition: __ + __ = __\n",
        "\n",
        "Subtraction: __ - __ = __\n",
        "\n",
        "Multiplication: __ * __ = __\n",
        "\n",
        "Division: __ / __ = __\n"
      ],
      "metadata": {
        "id": "IYA1jG4UO-lI"
      }
    },
    {
      "cell_type": "code",
      "source": [
        "First_variable= int(input(\"Enter the first number= \"));\n",
        "Second_variable= int(input(\"Enter the second number= \"));\n",
        "\n",
        "Addition=First_variable + Second_variable\n",
        "Subtraction= First_variable - Second_variable\n",
        "Multiplication= First_variable*Second_variable\n",
        "Division=First_variable/ Second_variable\n",
        "\n",
        "print(\"First variable is\", First_variable, \"& Second variable is\", Second_variable)\n",
        "print(\"Addition:\", First_variable, \"+\", Second_variable, \"=\", Addition)\n",
        "print(\"Subtraction:\", First_variable, \"-\", Second_variable, \"=\", Subtraction)\n",
        "print(\"Multiplication:\", First_variable, \"*\", Second_variable, \"=\", Multiplication)\n",
        "print(\"Division:\", First_variable, \"/\", Second_variable, \"=\", Division)"
      ],
      "metadata": {
        "colab": {
          "base_uri": "https://localhost:8080/"
        },
        "id": "sLigxgI-l1Kt",
        "outputId": "18449933-39e0-432d-a604-405a020e8510"
      },
      "execution_count": null,
      "outputs": [
        {
          "output_type": "stream",
          "name": "stdout",
          "text": [
            "Enter the first number= 7\n",
            "Enter the second number= 8\n",
            "First variable is 7 & Second variable is 8\n",
            "Addition: 7 + 8 = 15\n",
            "Subtraction: 7 - 8 = -1\n",
            "Multiplication: 7 * 8 = 56\n",
            "Division: 7 / 8 = 0.875\n"
          ]
        }
      ]
    },
    {
      "cell_type": "markdown",
      "source": [
        "Q.2. What is the difference between the following operators:\n",
        "\n",
        "(i) ‘/’ & ‘//’\n",
        "\n",
        "(ii) ‘**’ & ‘^’\n"
      ],
      "metadata": {
        "id": "p3FtBmQWO-nm"
      }
    },
    {
      "cell_type": "code",
      "source": [
        "/ is regular division(returns float)\n",
        "It performs regular division and returns the quotient as a floating-point or decimal number.\n",
        "\n",
        "And // is floor division(returns int).\n",
        "also known as floor division or integer division, performs division and returns the quotient as an integer by discarding the decimal part."
      ],
      "metadata": {
        "id": "eKMR4bL2plq2"
      },
      "execution_count": null,
      "outputs": []
    },
    {
      "cell_type": "code",
      "source": [
        "The '**' operator is used for exponentiation or raising a number to a power.\n",
        "\n",
        "The '^' operator, is not a standard exponentiation operator in most programming languages.\n",
        "It is often used as a bitwise XOR operator, performing a bitwise exclusive OR operation on the binary representation of two numbers."
      ],
      "metadata": {
        "id": "G4DzknOKrHwe"
      },
      "execution_count": null,
      "outputs": []
    },
    {
      "cell_type": "markdown",
      "source": [
        "Q.3. List the logical operators.\n"
      ],
      "metadata": {
        "id": "wPP3TeoKO-qm"
      }
    },
    {
      "cell_type": "code",
      "source": [
        "1. AND Operator (&)\n",
        "2. OR Operator (|)\n",
        "3. NOT Operator (~)"
      ],
      "metadata": {
        "id": "Yau7uNzPrjue"
      },
      "execution_count": null,
      "outputs": []
    },
    {
      "cell_type": "markdown",
      "source": [
        "Q.4. Explain right shift operator and left shift operator with examples.\n"
      ],
      "metadata": {
        "id": "3LjDBoxPO-sR"
      }
    },
    {
      "cell_type": "code",
      "source": [
        "#Right Shift Operator >>: Shifts the bits of the number to the right by the number of bits specified. Each shift to the right corresponds to dividing the number by 2.\n",
        "#Right shift operator (>>) moves the bits of a number to the right by a specified number of positions.\n",
        "a = 12        # in binary: 1100\n",
        "result = a >> 2  # result is 2 (in binary: 0011)\n",
        "print(result)"
      ],
      "metadata": {
        "colab": {
          "base_uri": "https://localhost:8080/"
        },
        "id": "AQQHqtkWr_pt",
        "outputId": "513c23c9-4a39-4e78-d799-bb4b99230da6"
      },
      "execution_count": null,
      "outputs": [
        {
          "output_type": "stream",
          "name": "stdout",
          "text": [
            "3\n"
          ]
        }
      ]
    },
    {
      "cell_type": "code",
      "source": [
        "#Left Shift Operator <<: Shifts the bits of the number to the left by the number of bits specified. Each shift to the left corresponds to multiplying the number by 2.\n",
        "#The left shift operator (<<) moves the bits of a number to the left by a specified number of positions.\n",
        "a = 12        # in binary: 1100\n",
        "result = a << 2  # result is 40 (in binary: 110000)\n",
        "print(result)"
      ],
      "metadata": {
        "colab": {
          "base_uri": "https://localhost:8080/"
        },
        "id": "7W_KYyDjsmN2",
        "outputId": "3aeae855-f849-4df5-a348-7c2d8c3c7856"
      },
      "execution_count": null,
      "outputs": [
        {
          "output_type": "stream",
          "name": "stdout",
          "text": [
            "48\n"
          ]
        }
      ]
    },
    {
      "cell_type": "markdown",
      "source": [
        "Q.5. Create a list containing int type data of length 15. Then write a code to check if 10 is\n",
        "present in the list or not."
      ],
      "metadata": {
        "id": "A2-igu6sO-vv"
      }
    },
    {
      "cell_type": "code",
      "source": [
        "# Create a list of integers\n",
        "my_list = [1,6,7,8,5,4,8,9,8,3,10,1,2,8,9]\n",
        "\n",
        "# Check if 10 is present in the list\n",
        "if 10 in my_list:\n",
        "    print(\"10 is present in the list.\")\n",
        "else:\n",
        "    print(\"10 is not present in the list.\")"
      ],
      "metadata": {
        "colab": {
          "base_uri": "https://localhost:8080/"
        },
        "id": "Eyp-7gxpt3Zd",
        "outputId": "d565fb68-12b9-4791-aa1f-5100174bb275"
      },
      "execution_count": null,
      "outputs": [
        {
          "output_type": "stream",
          "name": "stdout",
          "text": [
            "10 is present in the list.\n"
          ]
        }
      ]
    },
    {
      "cell_type": "code",
      "source": [],
      "metadata": {
        "id": "hAG069f2u55m"
      },
      "execution_count": null,
      "outputs": []
    }
  ]
}