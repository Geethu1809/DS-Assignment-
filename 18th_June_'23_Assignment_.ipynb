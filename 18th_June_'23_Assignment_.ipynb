{
  "nbformat": 4,
  "nbformat_minor": 0,
  "metadata": {
    "colab": {
      "provenance": []
    },
    "kernelspec": {
      "name": "python3",
      "display_name": "Python 3"
    },
    "language_info": {
      "name": "python"
    }
  },
  "cells": [
    {
      "cell_type": "markdown",
      "source": [
        "1. What is the role of the 'else' block in a try-except statement? Provide an example\n",
        "scenario where it would be useful.\n"
      ],
      "metadata": {
        "id": "MjbnhxC-a3Yt"
      }
    },
    {
      "cell_type": "code",
      "source": [
        "The 'else' block in a try-except statement is optional and is executed only if no exceptions are raised within the 'try' block.\n",
        "Its role is to specify the code that should be executed when the 'try' block completes successfully without any exceptions.\n"
      ],
      "metadata": {
        "id": "FcWIOVWPmnXV"
      },
      "execution_count": null,
      "outputs": []
    },
    {
      "cell_type": "code",
      "source": [
        "try:\n",
        "    filename = \"data.txt\"\n",
        "    with open(filename, 'r') as file:\n",
        "        data = file.read()\n",
        "except FileNotFoundError:\n",
        "    print(f\"Error: File '{filename}' not found.\")\n",
        "except Exception as e:\n",
        "    print(\"An error occurred:\", e)\n",
        "else:\n",
        "    # Process the data when file reading was successful\n",
        "    words = data.split()\n",
        "    word_count = len(words)\n",
        "    print(f\"Word count in '{filename}': {word_count}\")\n"
      ],
      "metadata": {
        "colab": {
          "base_uri": "https://localhost:8080/"
        },
        "id": "EqOzWLyJpKRv",
        "outputId": "7457fa53-13ae-4851-c542-b4fd7633944f"
      },
      "execution_count": 2,
      "outputs": [
        {
          "output_type": "stream",
          "name": "stdout",
          "text": [
            "Error: File 'data.txt' not found.\n"
          ]
        }
      ]
    },
    {
      "cell_type": "markdown",
      "source": [
        "2. Can a try-except block be nested inside another try-except block? Explain with an\n",
        "example.\n"
      ],
      "metadata": {
        "id": "os5ujxIqa3be"
      }
    },
    {
      "cell_type": "code",
      "source": [
        "Yes, a try-except block can be nested inside another try-except block.\n",
        "This is known as nested exception handling.\n",
        "It allows for handling different types of exceptions at different levels of code execution."
      ],
      "metadata": {
        "id": "y2-dK8Q2mn71"
      },
      "execution_count": null,
      "outputs": []
    },
    {
      "cell_type": "code",
      "source": [
        "5 the outer try-except block handles the ValueError if the user enters an invalid input, while the inner try-except block handles the ZeroDivisionError if the user enters zero as the input.\n",
        "try:\n",
        "    # Outer try-except block\n",
        "    try:\n",
        "        # Inner try-except block\n",
        "        num = int(input(\"Enter a number: \"))\n",
        "        result = 10 / num\n",
        "        print(\"Result:\", result)\n",
        "    except ZeroDivisionError:\n",
        "        print(\"Cannot divide by zero!\")\n",
        "except ValueError:\n",
        "    print(\"Invalid input!\")"
      ],
      "metadata": {
        "colab": {
          "base_uri": "https://localhost:8080/"
        },
        "id": "EViHEmVyntw2",
        "outputId": "e0605176-a2fd-4e3d-90ac-dcacecddcdbd"
      },
      "execution_count": null,
      "outputs": [
        {
          "output_type": "stream",
          "name": "stdout",
          "text": [
            "Enter a number: 3\n",
            "Result: 3.3333333333333335\n"
          ]
        }
      ]
    },
    {
      "cell_type": "markdown",
      "source": [
        "3. How can you create a custom exception class in Python? Provide an example that\n",
        "demonstrates its usage.\n"
      ],
      "metadata": {
        "id": "XLazEpU-a3eB"
      }
    },
    {
      "cell_type": "code",
      "source": [
        " To create a custom exception class in Python, can define a new class that inherits from the built-in `Exception` class or any of its subclasses."
      ],
      "metadata": {
        "id": "K_1mQjAgoCnl"
      },
      "execution_count": null,
      "outputs": []
    },
    {
      "cell_type": "code",
      "source": [
        "#Example:-define a custom exception class called `CustomException` that inherits from the `Exception` class. We then use the `raise` keyword to raise an instance of this custom exception if the user enters a negative age. The raised exception is caught by the except block, and the error message is printed.\n",
        "class CustomException(Exception):\n",
        "    pass\n",
        "\n",
        "try:\n",
        "    age = int(input(\"Enter your age: \"))\n",
        "    if age < 0:\n",
        "        raise CustomException(\"Age cannot be negative!\")\n",
        "    else:\n",
        "        print(\"Your age is:\", age)\n",
        "except CustomException as e:\n",
        "    print(\"Custom Exception:\", str(e))"
      ],
      "metadata": {
        "colab": {
          "base_uri": "https://localhost:8080/"
        },
        "id": "IO0usK16most",
        "outputId": "62ef3a2d-8618-495d-a5ac-72b7e84f7e5d"
      },
      "execution_count": null,
      "outputs": [
        {
          "output_type": "stream",
          "name": "stdout",
          "text": [
            "Enter your age: 20\n",
            "Your age is: 20\n"
          ]
        }
      ]
    },
    {
      "cell_type": "markdown",
      "source": [
        "4. What are some common exceptions that are built-in to Python?\n"
      ],
      "metadata": {
        "id": "vsgPzo1da3gn"
      }
    },
    {
      "cell_type": "code",
      "source": [
        "Some common exceptions that are built-in to Python include:\n",
        "\n",
        "- ValueError: Raised when a function receives an argument of the correct type but with an invalid value.\n",
        "- TypeError: Raised when an operation or function is applied to an object of an inappropriate type.\n",
        "- FileNotFoundError: Raised when a file or directory is requested but cannot be found.\n",
        "- ImportError: Raised when a module or package cannot be imported.\n",
        "- KeyError: Raised when a dictionary key is not found.\n",
        "- IndexError: Raised when trying to access an index that is out of range in a sequence.\n",
        "- ZeroDivisionError: Raised when division or modulo operation is performed with zero as the divisor.\n"
      ],
      "metadata": {
        "id": "WzEUxVKLmpJl"
      },
      "execution_count": null,
      "outputs": []
    },
    {
      "cell_type": "markdown",
      "source": [
        "5. What is logging in Python, and why is it important in software development?\n"
      ],
      "metadata": {
        "id": "IbrbR_3Ia3i_"
      }
    },
    {
      "cell_type": "code",
      "source": [
        "Logging in Python refers to the process of recording events, messages, and errors that occur during the execution of a program.\n",
        "It involves using the built-in logging module in Python to capture and store these events in a log file or other output destinations."
      ],
      "metadata": {
        "id": "owXL2iHyodWt"
      },
      "execution_count": null,
      "outputs": []
    },
    {
      "cell_type": "code",
      "source": [
        "Logging is important in software development for several reasons:\n",
        "\n",
        "1. Debugging: Logging allows developers to track and analyze the flow of their program, making it easier to identify and fix bugs or unexpected behavior.\n",
        "2. Error Tracking: By logging errors and exceptions, developers can quickly identify and address issues that occur during runtime, improving the overall stability and reliability of the software.\n",
        "3. Performance Monitoring: Logging can be used to measure and analyze the performance of a program, helping developers identify bottlenecks and optimize code for better efficiency.\n",
        "4. Auditing and Compliance: Logging provides a record of events and actions taken by the software, which can be useful for auditing purposes or ensuring compliance with regulations.\n"
      ],
      "metadata": {
        "id": "6ZIHvqmMo1_9"
      },
      "execution_count": null,
      "outputs": []
    },
    {
      "cell_type": "markdown",
      "source": [
        "6. Explain the purpose of log levels in Python logging and provide examples of when\n",
        "each log level would be appropriate.\n"
      ],
      "metadata": {
        "id": "HPUrqkYga3li"
      }
    },
    {
      "cell_type": "code",
      "source": [
        "The purpose of log levels in Python logging is to categorize and prioritize log messages based on their importance or severity.\n",
        "Each log level represents a different level of detail or criticality, allowing developers to control the amount of information logged and filter out less relevant messages."
      ],
      "metadata": {
        "id": "Oxi2SVYp0MlY"
      },
      "execution_count": null,
      "outputs": []
    },
    {
      "cell_type": "code",
      "source": [
        "log levels in Python logging :-\n",
        "1. DEBUG: This log level is used for detailed information useful for debugging purposes. It is typically used during development or when troubleshooting specific issues.\n",
        "Example: logging the values of variables or the flow of program execution.\n",
        "\n",
        "2. INFO: This log level provides informational messages about the progress or state of the application. It is useful for tracking the general flow of the program and important milestones.\n",
        "Example:logging when a service starts or stops, or when a user logs in.\n",
        "\n",
        "3. WARNING: This log level indicates potential issues or situations that could lead to errors or unexpected behavior. It is used to highlight non-critical problems that may require attention.\n",
        "Example:logging when a deprecated function is used or when a resource is running low.\n",
        "\n",
        "4. ERROR: This log level is used to report errors that caused the application to fail or produce incorrect results. It indicates a problem that needs to be addressed but does not necessarily terminate the program.\n",
        "Example:logging when a database connection fails or when an API request returns an error.\n",
        "\n",
        "5. CRITICAL: This log level represents critical errors that may cause the application to crash or become unusable. It is used for severe failures that require immediate attention.\n",
        "Example:logging when a required configuration file is missing or when a critical dependency cannot be loaded.\n"
      ],
      "metadata": {
        "id": "64mQxkP30d0Z"
      },
      "execution_count": null,
      "outputs": []
    },
    {
      "cell_type": "markdown",
      "source": [
        "7. What are log formatters in Python logging, and how can you customise the log\n",
        "message format using formatters?\n"
      ],
      "metadata": {
        "id": "j-gsRzRga3oD"
      }
    },
    {
      "cell_type": "code",
      "source": [
        "Log formatters in Python logging are responsible for defining the format of log messages. They determine how the log messages will be displayed or stored. Python's logging module provides various built-in formatters, such as the `Formatter` class, which allows customization of the log message format.\n",
        "\n",
        "To customize the log message format using formatters, can create an instance of the `Formatter` class and specify the desired format using a format string. This format string can include placeholders for various attributes like the log level, timestamp, logger name, and the actual log message. By configuring the formatter with the desired format string, you can control how the log messages are formatted and displayed."
      ],
      "metadata": {
        "id": "j6YWo-Rl0Nvf"
      },
      "execution_count": null,
      "outputs": []
    },
    {
      "cell_type": "markdown",
      "source": [
        "8. How can you set up logging to capture log messages from multiple modules or\n",
        "classes in a Python application?\n"
      ],
      "metadata": {
        "id": "nQ2iWw3Na3qt"
      }
    },
    {
      "cell_type": "code",
      "source": [
        "To capture log messages from multiple modules or classes in a Python application, user can set up logging with a hierarchical logger structure. The logging module in Python follows a hierarchical logger naming convention, where loggers are organized in a hierarchical structure based on their names.\n",
        "\n",
        "To create a logger for each module or class that user want to capture log messages from. By default, loggers inherit the configuration of their parent loggers in the hierarchy. This means that we can configure a root logger with desired handlers, formatters, and log levels, and the child loggers will inherit these settings.\n",
        "\n",
        "To set up logging for multiple modules or classes, user can create loggers using the `logging.getLogger()` method, specifying a unique name for each logger. Then, configure the root logger with desired handlers and formatters, and the log messages from all the loggers in the hierarchy will be captured and processed according to the configuration of the root logger."
      ],
      "metadata": {
        "id": "B4mSlSfM0Oe_"
      },
      "execution_count": null,
      "outputs": []
    },
    {
      "cell_type": "markdown",
      "source": [
        "9. What is the difference between the logging and print statements in Python? When\n",
        "should you use logging over print statements in a real-world application?\n"
      ],
      "metadata": {
        "id": "4nrBM7KUa3uG"
      }
    },
    {
      "cell_type": "code",
      "source": [
        "- Print statements are primarily used for debugging and displaying information during development.\n",
        "  They output messages to the console or standard output, which can be helpful for understanding the flow of the program and inspecting variable values.\n",
        "  However, print statements are not suitable for long-term logging or error tracking in a real-world application.\n",
        "\n",
        "- Logging, is a dedicated module in Python that provides a more robust and flexible way to handle messages, errors, and debugging information.\n",
        "  It allows you to log messages to various outputs, such as the console, files, or external services.\n",
        "  Logging provides different log levels (e.g., debug, info, warning, error, critical) to categorize and filter messages based on their importance.\n",
        "  It also supports formatting, timestamps, and customizable log handlers.\n"
      ],
      "metadata": {
        "id": "AQGuPOwp0PIH"
      },
      "execution_count": null,
      "outputs": []
    },
    {
      "cell_type": "code",
      "source": [
        "In a real-world application, it is recommended to use logging over print statements for several reasons:\n",
        "- Logging allows user to control the verbosity of messages based on the log level, making it easier to filter and manage different types of messages.\n",
        "- Logging provides a centralized way to handle errors and exceptions, allowing user to track and analyze them more effectively.\n",
        "- Logging allows user to redirect messages to different outputs, such as files or external services, which can be useful for monitoring and debugging in production environments.\n",
        "- Logging supports advanced features like log rotation, log file size management, and integration with logging frameworks or services.\n"
      ],
      "metadata": {
        "id": "vTgqnyUo3TNS"
      },
      "execution_count": null,
      "outputs": []
    },
    {
      "cell_type": "markdown",
      "source": [
        "10. Write a Python program that logs a message to a file named \"app.log\" with the\n",
        "following requirements:\n",
        "\n",
        "● The log message should be \"Hello, World!\"\n",
        "\n",
        "● The log level should be set to \"INFO.\"\n",
        "\n",
        "● The log file should append new log entries without overwriting previous ones.\n"
      ],
      "metadata": {
        "id": "Ob6mGbd2bWQS"
      }
    },
    {
      "cell_type": "code",
      "source": [
        "import logging\n",
        "\n",
        "# Configure the logger\n",
        "logging.basicConfig(filename='app.log', level=logging.INFO, filemode='a')\n",
        "\n",
        "# Log the message\n",
        "logging.info('Hello, World!')"
      ],
      "metadata": {
        "id": "_Sjaa_3l0QIf"
      },
      "execution_count": null,
      "outputs": []
    },
    {
      "cell_type": "markdown",
      "source": [
        "11. Create a Python program that logs an error message to the console and a file named\n",
        "\"errors.log\" if an exception occurs during the program's execution. The error\n",
        "message should include the exception type and a timestamp."
      ],
      "metadata": {
        "id": "AWulePNPbWT1"
      }
    },
    {
      "cell_type": "code",
      "source": [
        "import logging\n",
        "import datetime\n",
        "\n",
        "# Configure logging\n",
        "logging.basicConfig(level=logging.ERROR, filename='errors.log', filemode='a',\n",
        "                    format='%(asctime)s - %(levelname)s - %(message)s')\n",
        "\n",
        "try:\n",
        "    raise ValueError(\"This is a sample exception\")\n",
        "\n",
        "except Exception as e:\n",
        "    # Log the error message to the console\n",
        "    logging.error(f\"Exception occurred: {type(e).__name__} - {e}\")\n",
        "\n",
        "    # Log the error message to the file with timestamp\n",
        "    timestamp = datetime.datetime.now().strftime(\"%Y-%m-%d %H:%M:%S\")\n",
        "    logging.error(f\"{timestamp} - Exception occurred: {type(e).__name__} - {e}\")"
      ],
      "metadata": {
        "colab": {
          "base_uri": "https://localhost:8080/"
        },
        "id": "EtGQLVrW0RPQ",
        "outputId": "bd2c641b-b22d-4750-a2cd-0dd8f9238626"
      },
      "execution_count": null,
      "outputs": [
        {
          "output_type": "stream",
          "name": "stderr",
          "text": [
            "ERROR:root:Exception occurred: ValueError - This is a sample exception\n",
            "ERROR:root:2023-08-02 06:15:58 - Exception occurred: ValueError - This is a sample exception\n"
          ]
        }
      ]
    },
    {
      "cell_type": "code",
      "source": [],
      "metadata": {
        "id": "p4DPGgh_4Rf5"
      },
      "execution_count": null,
      "outputs": []
    }
  ]
}