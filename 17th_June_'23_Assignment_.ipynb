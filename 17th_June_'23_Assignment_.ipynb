{
  "nbformat": 4,
  "nbformat_minor": 0,
  "metadata": {
    "colab": {
      "provenance": []
    },
    "kernelspec": {
      "name": "python3",
      "display_name": "Python 3"
    },
    "language_info": {
      "name": "python"
    }
  },
  "cells": [
    {
      "cell_type": "markdown",
      "source": [
        "1. What is the role of try and exception block?\n"
      ],
      "metadata": {
        "id": "CqhXOD2GaE4o"
      }
    },
    {
      "cell_type": "code",
      "source": [
        "The try block lets coder test a block of code for errors.\n",
        "\n",
        "The except block lets coder handle the error."
      ],
      "metadata": {
        "id": "dABNzkxDmyqQ"
      },
      "execution_count": null,
      "outputs": []
    },
    {
      "cell_type": "markdown",
      "source": [
        "2. What is the syntax for a basic try-except block?\n"
      ],
      "metadata": {
        "id": "ZQ3OFLTfaE7d"
      }
    },
    {
      "cell_type": "code",
      "source": [
        "Try and Except statement is used to handle these errors within our code in Python. The try block is used to check some code for errors i.e the code inside the try block will execute when there is no error in the program. Whereas the code inside the except block will execute whenever the program encounters some error in the preceding try block.\n",
        ""
      ],
      "metadata": {
        "id": "0uZh4RJOmzSg"
      },
      "execution_count": null,
      "outputs": []
    },
    {
      "cell_type": "code",
      "source": [
        "Syntax:\n",
        "\n",
        "try:\n",
        "    # Some Code\n",
        "except:\n",
        "    # Executed if error in the\n",
        "    # try block"
      ],
      "metadata": {
        "id": "1b8LuczXo-IM"
      },
      "execution_count": null,
      "outputs": []
    },
    {
      "cell_type": "markdown",
      "source": [
        "3. What happens if an exception occurs inside a try block and there is no matching\n",
        "except block?\n"
      ],
      "metadata": {
        "id": "MllKYbW5aE-A"
      }
    },
    {
      "cell_type": "code",
      "source": [
        "If an exception occurs inside a try block and there is no matching except block to handle that specific exception, the exception will propagate up the call stack until it is caught by an appropriate except block or until it reaches the top level of the program.\n",
        "If no except block is found to handle the exception, the program will terminate and an error message will be displayed, indicating the type of exception that occurred and the traceback information. This is known as an unhandled exception."
      ],
      "metadata": {
        "id": "qGZXFk2Fm0Po"
      },
      "execution_count": null,
      "outputs": []
    },
    {
      "cell_type": "markdown",
      "source": [
        "4. What is the difference between using a bare except block and specifying a specific\n",
        "exception type?\n"
      ],
      "metadata": {
        "id": "5toRd3JBaFBe"
      }
    },
    {
      "cell_type": "code",
      "source": [
        "\"bare except:\" handles all exceptions. \"except Exception:\" handles exceptions derived from the Exception class.\n",
        "A bare except: clause will catch SystemExit and KeyboardInterrupt exceptions, making it harder to interrupt a program with Control-C, and can disguise other problems.\n",
        "Want to catch all exceptions that signal program errors, use except Exception: (bare except is equivalent to except BaseException:)."
      ],
      "metadata": {
        "id": "rwU9NyEvm0-A"
      },
      "execution_count": null,
      "outputs": []
    },
    {
      "cell_type": "markdown",
      "source": [
        "5. Can you have nested try-except blocks in Python? If yes, then give an example.\n"
      ],
      "metadata": {
        "id": "hkWeglDbaT-n"
      }
    },
    {
      "cell_type": "code",
      "source": [
        "Yes, we can have nestes try-except blocks in python."
      ],
      "metadata": {
        "id": "EDySCsJXm1oH"
      },
      "execution_count": null,
      "outputs": []
    },
    {
      "cell_type": "code",
      "source": [
        "x = 10\n",
        "y = 0\n",
        "\n",
        "try:\n",
        "    print(\"outer try block\")\n",
        "    try:\n",
        "        print(\"nested try block\")\n",
        "        print(x / y)\n",
        "    except TypeError as te:\n",
        "        print(\"nested except block\")\n",
        "        print(te)\n",
        "except ZeroDivisionError as ze:\n",
        "    print(\"outer except block\")\n",
        "    print(ze)"
      ],
      "metadata": {
        "colab": {
          "base_uri": "https://localhost:8080/"
        },
        "id": "nHsFhBggr8Mi",
        "outputId": "f0dfa529-87c4-4f86-bc08-2868e6a78a93"
      },
      "execution_count": null,
      "outputs": [
        {
          "output_type": "stream",
          "name": "stdout",
          "text": [
            "outer try block\n",
            "nested try block\n",
            "outer except block\n",
            "division by zero\n"
          ]
        }
      ]
    },
    {
      "cell_type": "markdown",
      "source": [
        "6. Can we use multiple exception blocks, if yes then give an example.\n"
      ],
      "metadata": {
        "id": "2MDEseD_aUBX"
      }
    },
    {
      "cell_type": "code",
      "source": [
        "Yes, we can use multiple exception blocks."
      ],
      "metadata": {
        "id": "WdoUtV62m2X_"
      },
      "execution_count": null,
      "outputs": []
    },
    {
      "cell_type": "code",
      "source": [
        "try:\n",
        "    a = 10\n",
        "    b= 0\n",
        "    c = \"abc\"\n",
        "    d =a+c\n",
        "# Zerodivision error\n",
        "except ZeroDivisionError:\n",
        "    print(\"Zero Division Error occurs\")\n",
        "# index error\n",
        "except IndexError:\n",
        "    print(\"Index error occurs\")\n",
        "# type error\n",
        "except TypeError:\n",
        "\n",
        "    print(\"Type error occurs\")"
      ],
      "metadata": {
        "colab": {
          "base_uri": "https://localhost:8080/"
        },
        "id": "SpeybnBbsqJ4",
        "outputId": "b7180947-188f-42d9-a1cb-154579fdc1b7"
      },
      "execution_count": null,
      "outputs": [
        {
          "output_type": "stream",
          "name": "stdout",
          "text": [
            "Type error occurs\n"
          ]
        }
      ]
    },
    {
      "cell_type": "markdown",
      "source": [
        "7. Write the reason due to which following errors are raised:\n",
        "\n",
        "a. EOFError\n",
        "\n",
        "b. FloatingPointError\n",
        "\n",
        "c. IndexError\n",
        "\n",
        "\n",
        "d. MemoryError\n",
        "\n",
        "e. OverflowError\n",
        "\n",
        "f. TabError\n",
        "\n",
        "g. ValueError\n"
      ],
      "metadata": {
        "id": "X_FsJDMOaUEv"
      }
    },
    {
      "cell_type": "code",
      "source": [
        "a. EOFError: An EOFError is raised when the end of a file or input stream is reached unexpectedly.\n",
        "   It typically occurs when a program tries to read more data from a file or input stream than is available.\n",
        "\n",
        "b. FloatingPointError: A FloatingPointError is raised when a floating-point operation encounters an exceptional condition.\n",
        "   This can happen when performing calculations involving floating-point numbers, such as division by zero or an invalid mathematical operation.\n",
        "\n",
        "c. IndexError: An IndexError is raised when trying to access an index that is out of range in a sequence, such as a list or a string.\n",
        "   It occurs when attempting to access an element at an index that does not exist.\n",
        "\n",
        "d. MemoryError: A MemoryError is raised when a program runs out of available memory to allocate for new objects or data.\n",
        "   This can happen when a program tries to allocate more memory than the system can provide.\n",
        "\n",
        "e. OverflowError: An OverflowError is raised when a calculation exceeds the maximum representable value for a numeric type.\n",
        "   It occurs when performing arithmetic operations that result in a value that is too large to be stored in the given numeric type.\n",
        "\n",
        "f. TabError: A TabError is raised when there is an issue with the indentation of code using tabs.\n",
        "   It typically occurs when mixing tabs and spaces for indentation, or when the indentation is not consistent throughout the code.\n",
        "\n",
        "g. ValueError: A ValueError is raised when a function receives an argument of the correct type but with an invalid value.\n",
        "   It occurs when a function is called with an argument that is not suitable or within the expected range for that function.\n",
        "\n"
      ],
      "metadata": {
        "id": "V8vtTh3Lm26p"
      },
      "execution_count": null,
      "outputs": []
    },
    {
      "cell_type": "markdown",
      "source": [
        "8. Write code for the following given scenario and add try-exception block to it.\n",
        "\n",
        "a. Program to divide two numbers\n",
        "\n",
        "b. Program to convert a string to an integer\n",
        "\n",
        "c. Program to access an element in a list\n",
        "\n",
        "d. Program to handle a specific exception\n",
        "\n",
        "e. Program to handle any exception"
      ],
      "metadata": {
        "id": "ATxX1ITraUHq"
      }
    },
    {
      "cell_type": "code",
      "source": [
        "#a. Program to divide two numbers\n",
        "try:\n",
        "    num1 = float(input(\"Enter the first number: \"))\n",
        "    num2 = float(input(\"Enter the second number: \"))\n",
        "    result = num1 / num2\n",
        "    print(\"The result of the division is:\", result)\n",
        "except ZeroDivisionError:\n",
        "    print(\"Error: Division by zero is not allowed.\")"
      ],
      "metadata": {
        "id": "z88B-Ycxm3hw",
        "colab": {
          "base_uri": "https://localhost:8080/"
        },
        "outputId": "c0011aed-5a79-46cd-fa65-fed31d86584d"
      },
      "execution_count": null,
      "outputs": [
        {
          "output_type": "stream",
          "name": "stdout",
          "text": [
            "Enter the first number: 5\n",
            "Enter the second number: 6\n",
            "The result of the division is: 0.8333333333333334\n"
          ]
        }
      ]
    },
    {
      "cell_type": "code",
      "source": [
        "#b. Program to convert a string to an integer\n",
        "try:\n",
        "    string_num = input(\"Enter a number as a string: \")\n",
        "    num = int(string_num)\n",
        "    print(\"The converted integer is:\", num)\n",
        "except ValueError:\n",
        "    print(\"Error: Invalid input. Please enter a valid integer.\")\n"
      ],
      "metadata": {
        "colab": {
          "base_uri": "https://localhost:8080/"
        },
        "id": "4YUiBithhBd2",
        "outputId": "d86e22af-2d97-4bcb-a553-7f29b474d8f5"
      },
      "execution_count": null,
      "outputs": [
        {
          "output_type": "stream",
          "name": "stdout",
          "text": [
            "Enter a number as a string: 200\n",
            "The converted integer is: 200\n"
          ]
        }
      ]
    },
    {
      "cell_type": "code",
      "source": [
        "#c. Program to access an element in a list\n",
        "try:\n",
        "    my_list = [1, 2, 3, 4, 5]\n",
        "    index = int(input(\"Enter the index of the element you want to access: \"))\n",
        "    element = my_list[index]\n",
        "    print(\"The element at index\", index, \"is:\", element)\n",
        "except IndexError:\n",
        "    print(\"Error: Index out of range. Please enter a valid index.\")"
      ],
      "metadata": {
        "colab": {
          "base_uri": "https://localhost:8080/"
        },
        "id": "_zWMBTnthNLV",
        "outputId": "18fa576b-cdcd-47e5-c7c1-254d2ea5bd07"
      },
      "execution_count": null,
      "outputs": [
        {
          "output_type": "stream",
          "name": "stdout",
          "text": [
            "Enter the index of the element you want to access: 3\n",
            "The element at index 3 is: 4\n"
          ]
        }
      ]
    },
    {
      "cell_type": "code",
      "source": [
        "#d. Program to handle a specific exception\n",
        "try:\n",
        "    num = int(input(\"Enter a number: \"))\n",
        "    result = 10 / num\n",
        "    print(\"The result is:\", result)\n",
        "except ValueError:\n",
        "    print(\"Error: Invalid input. Please enter a valid integer.\")"
      ],
      "metadata": {
        "colab": {
          "base_uri": "https://localhost:8080/"
        },
        "id": "HAU7awrsicDt",
        "outputId": "7da98fd3-507d-4478-dae6-bcdfb3426512"
      },
      "execution_count": 3,
      "outputs": [
        {
          "output_type": "stream",
          "name": "stdout",
          "text": [
            "Enter a number: 7\n",
            "The result is: 1.4285714285714286\n"
          ]
        }
      ]
    },
    {
      "cell_type": "code",
      "source": [
        "#e.Program to handle any exception\n",
        "try:\n",
        "    # The code inside this block might raise exceptions\n",
        "    num1 = int(input(\"Enter a number: \"))\n",
        "    num2 = int(input(\"Enter another number: \"))\n",
        "\n",
        "    result = num1 / num2\n",
        "    print(\"Result:\", result)\n",
        "\n",
        "except ZeroDivisionError:\n",
        "    print(\"Error: Division by zero is not allowed.\")\n",
        "except ValueError:\n",
        "    print(\"Error: Please enter valid numbers.\")\n",
        "except Exception as e:\n",
        "    print(\"An error occurred:\", e)\n",
        "\n",
        "print(\"Program finished.\")\n"
      ],
      "metadata": {
        "id": "5zQo3Q_UkAq1",
        "colab": {
          "base_uri": "https://localhost:8080/"
        },
        "outputId": "38bf20d8-a622-4b0b-b82c-f1041242ec82"
      },
      "execution_count": 6,
      "outputs": [
        {
          "output_type": "stream",
          "name": "stdout",
          "text": [
            "Enter a number: 7\n",
            "Enter another number: 8\n",
            "Result: 0.875\n",
            "Program finished.\n"
          ]
        }
      ]
    },
    {
      "cell_type": "code",
      "source": [],
      "metadata": {
        "id": "JgIMD2WVn2g5"
      },
      "execution_count": null,
      "outputs": []
    }
  ]
}