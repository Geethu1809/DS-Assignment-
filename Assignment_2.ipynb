{
  "nbformat": 4,
  "nbformat_minor": 0,
  "metadata": {
    "colab": {
      "provenance": []
    },
    "kernelspec": {
      "name": "python3",
      "display_name": "Python 3"
    },
    "language_info": {
      "name": "python"
    }
  },
  "cells": [
    {
      "cell_type": "markdown",
      "source": [
        "1.What are the two values of the Boolean data type? How do you write them?"
      ],
      "metadata": {
        "id": "aWl0qi2813Pz"
      }
    },
    {
      "cell_type": "code",
      "source": [
        "#Two values of the Boolean data type is :-1.True\n",
        "#                                         2.False\n",
        "a = 10\n",
        "b = 20\n",
        "print(a == b)  # a Equal to b\n",
        "print(a != b)  # a Not equal to b\n"
      ],
      "metadata": {
        "colab": {
          "base_uri": "https://localhost:8080/"
        },
        "id": "GeguOI_O15H7",
        "outputId": "2af391d7-7af7-4dac-86f5-4f1cfba59113"
      },
      "execution_count": null,
      "outputs": [
        {
          "output_type": "stream",
          "name": "stdout",
          "text": [
            "False\n",
            "True\n"
          ]
        }
      ]
    },
    {
      "cell_type": "markdown",
      "source": [
        "2. What are the three different types of Boolean operators?"
      ],
      "metadata": {
        "id": "ZUbteHBF2Moc"
      }
    },
    {
      "cell_type": "code",
      "source": [
        "-3 types of Boolean Operators are\n",
        "      1.AND\n",
        "      2.OR\n",
        "      3.NOT\n"
      ],
      "metadata": {
        "id": "mfZPjYVV2aFv"
      },
      "execution_count": null,
      "outputs": []
    },
    {
      "cell_type": "markdown",
      "source": [
        "3. Make a list of each Boolean operator's truth tables (i.e. every possible combination of Boolean values for the operator and what it evaluate )."
      ],
      "metadata": {
        "id": "nYpPhmpi2Sck"
      }
    },
    {
      "cell_type": "code",
      "source": [
        "True and True is True.\n",
        "\n",
        "True and False is False.\n",
        "\n",
        "False and True is False.\n",
        "\n",
        "False and False is False.\n",
        "\n",
        "True or True is True.\n",
        "\n",
        "True or False is True.\n",
        "\n",
        "False or True is True.\n",
        "\n",
        "False or False is False.\n",
        "\n",
        "not True is False.\n",
        "\n",
        "not False is True."
      ],
      "metadata": {
        "id": "xfKL9LOT2eK3"
      },
      "execution_count": null,
      "outputs": []
    },
    {
      "cell_type": "markdown",
      "source": [
        "4. What are the values of the following expressions?\n",
        "(5 > 4) and (3 == 5)\n",
        "\n",
        "not (5 > 4)\n",
        "\n",
        "(5 > 4) or (3 == 5)\n",
        "\n",
        "not ((5 > 4) or (3 == 5))\n",
        "\n",
        "(True and True) and (True == False)\n",
        "\n",
        "(not False) or (not True)\n"
      ],
      "metadata": {
        "id": "XemPMiiD2ykz"
      }
    },
    {
      "cell_type": "code",
      "source": [
        "(5 > 4) and (3 == 5)"
      ],
      "metadata": {
        "colab": {
          "base_uri": "https://localhost:8080/"
        },
        "id": "0uAtPp-n25k7",
        "outputId": "bf80cac5-51c9-43e0-f90f-739e42c14498"
      },
      "execution_count": null,
      "outputs": [
        {
          "output_type": "execute_result",
          "data": {
            "text/plain": [
              "False"
            ]
          },
          "metadata": {},
          "execution_count": 3
        }
      ]
    },
    {
      "cell_type": "code",
      "source": [
        "not (5 > 4)"
      ],
      "metadata": {
        "colab": {
          "base_uri": "https://localhost:8080/"
        },
        "id": "b87WgoIk3laM",
        "outputId": "73bd73fc-8bc8-476d-8b79-f26089badba6"
      },
      "execution_count": null,
      "outputs": [
        {
          "output_type": "execute_result",
          "data": {
            "text/plain": [
              "False"
            ]
          },
          "metadata": {},
          "execution_count": 4
        }
      ]
    },
    {
      "cell_type": "code",
      "source": [
        "(5 > 4) or (3 == 5)"
      ],
      "metadata": {
        "colab": {
          "base_uri": "https://localhost:8080/"
        },
        "id": "zGpJbBIH3rbr",
        "outputId": "800446a1-80ed-44ff-950c-fa187205ebd9"
      },
      "execution_count": null,
      "outputs": [
        {
          "output_type": "execute_result",
          "data": {
            "text/plain": [
              "True"
            ]
          },
          "metadata": {},
          "execution_count": 5
        }
      ]
    },
    {
      "cell_type": "code",
      "source": [
        "not ((5 > 4) or (3 == 5))"
      ],
      "metadata": {
        "colab": {
          "base_uri": "https://localhost:8080/"
        },
        "id": "hBZfge6w3txM",
        "outputId": "3f344764-a941-41a5-db65-52f326120785"
      },
      "execution_count": null,
      "outputs": [
        {
          "output_type": "execute_result",
          "data": {
            "text/plain": [
              "False"
            ]
          },
          "metadata": {},
          "execution_count": 6
        }
      ]
    },
    {
      "cell_type": "code",
      "source": [
        "(True and True) and (True == False)"
      ],
      "metadata": {
        "colab": {
          "base_uri": "https://localhost:8080/"
        },
        "id": "U6PNF__-3xrD",
        "outputId": "5e32b6f1-49a6-4dba-d505-755c88947769"
      },
      "execution_count": null,
      "outputs": [
        {
          "output_type": "execute_result",
          "data": {
            "text/plain": [
              "False"
            ]
          },
          "metadata": {},
          "execution_count": 7
        }
      ]
    },
    {
      "cell_type": "code",
      "source": [
        "(not False) or (not True)"
      ],
      "metadata": {
        "colab": {
          "base_uri": "https://localhost:8080/"
        },
        "id": "qkCFXkla3z8T",
        "outputId": "3a366eec-9ffe-4bed-aa94-816feb4bb230"
      },
      "execution_count": null,
      "outputs": [
        {
          "output_type": "execute_result",
          "data": {
            "text/plain": [
              "True"
            ]
          },
          "metadata": {},
          "execution_count": 8
        }
      ]
    },
    {
      "cell_type": "markdown",
      "source": [
        "5. What are the six comparison operators?"
      ],
      "metadata": {
        "id": "LsYsNoG-34s0"
      }
    },
    {
      "cell_type": "code",
      "source": [
        "6 Comparison operators are:-\n",
        "1.==,\n",
        "2.!=,\n",
        "3.<,\n",
        "4.>,\n",
        "5.<= and\n",
        "6.>=."
      ],
      "metadata": {
        "id": "I_y6lP5m39As"
      },
      "execution_count": null,
      "outputs": []
    },
    {
      "cell_type": "markdown",
      "source": [
        "6. How do you tell the difference between the equal to and assignment operators?Describe a condition and when you would use one."
      ],
      "metadata": {
        "id": "Re64k7XJ4dfE"
      }
    },
    {
      "cell_type": "code",
      "source": [
        "-The equal to sign is \" = \"\n",
        "= is used for assignation of value and (=) assigns the value on the right-hand to the variable on its left.\n",
        "Ex:-\n",
        "    a=9\n",
        "-Assignment operator sign is \" == \" (with two equlas sign)\n",
        "== is used for comparison of two variable,list or string and (==) compares whether the values on both sides of the operator are equal.\n",
        "Ex:\n",
        "   a==9\n"
      ],
      "metadata": {
        "id": "OfSNNpzv4goJ"
      },
      "execution_count": null,
      "outputs": []
    },
    {
      "cell_type": "markdown",
      "source": [
        "7. Identify the three blocks in this code:\n",
        "spam = 0\n",
        "\n",
        "if spam == 10:\n",
        "\n",
        "print('eggs')\n",
        "\n",
        "if spam > 5:\n",
        "\n",
        "print('bacon')\n",
        "\n",
        "else:\n",
        "\n",
        "print('ham')\n",
        "\n",
        "print('spam')\n",
        "\n",
        "print('spam')\n"
      ],
      "metadata": {
        "id": "mMH_69Wp6qb1"
      }
    },
    {
      "cell_type": "code",
      "source": [
        "The 3 blocks is:\n",
        "!. if\n",
        "2. if\n",
        "3.else"
      ],
      "metadata": {
        "id": "NsX5UerI7y7M"
      },
      "execution_count": null,
      "outputs": []
    },
    {
      "cell_type": "markdown",
      "source": [
        "8.Write code that prints Hello if 1 is stored in spam, prints Howdy if 2 is stored in spam, and prints Greetings! if anything else is stored in spam."
      ],
      "metadata": {
        "id": "3BSjLBtd8YGf"
      }
    },
    {
      "cell_type": "code",
      "source": [
        "spam = int(input(\"Enter the number: \"))\n",
        "\n",
        "if spam == 1:\n",
        "    print('Hello')\n",
        "elif spam == 2:\n",
        "    print('Howdy')\n",
        "else:\n",
        "    print('Greetings!')"
      ],
      "metadata": {
        "colab": {
          "base_uri": "https://localhost:8080/"
        },
        "id": "Mlro2k4Q8dFF",
        "outputId": "d668fae2-1948-4fde-ebc7-7fe20f2ad940"
      },
      "execution_count": null,
      "outputs": [
        {
          "output_type": "stream",
          "name": "stdout",
          "text": [
            "Enter the number: 189\n",
            "Greetings!\n"
          ]
        }
      ]
    },
    {
      "cell_type": "markdown",
      "source": [
        "9.If your programme is stuck in an endless loop, what keys you’ll press?"
      ],
      "metadata": {
        "id": "30x70Q6O9Q2e"
      }
    },
    {
      "cell_type": "code",
      "source": [
        "If there is infinite loop it can be stopped with  CTRL + C ."
      ],
      "metadata": {
        "id": "dwR3qDyQ8-Vl"
      },
      "execution_count": null,
      "outputs": []
    },
    {
      "cell_type": "markdown",
      "source": [
        "10. How can you tell the difference between break and continue?"
      ],
      "metadata": {
        "id": "vVR1_9ex90Wd"
      }
    },
    {
      "cell_type": "code",
      "source": [
        "-When break keyword comes, it terminates the execution of the current loop and passes the control over the next loop or main body, whereas when continue keyword is encountered, it skips the current iteration and executes the very next iteration in the loop.\n",
        "-Break statement stops the entire process of the loop. Continue statement only stops the current iteration of the loop.\n",
        "-Break statement can be used with switch statements and with loops. Continue statement can be used with loops but not switch statements.\n"
      ],
      "metadata": {
        "id": "bcJ1jweZ93ct"
      },
      "execution_count": null,
      "outputs": []
    },
    {
      "cell_type": "markdown",
      "source": [
        "11. In a for loop, what is the difference between range(10), range(0, 10), and range(0, 10, 1)?"
      ],
      "metadata": {
        "id": "KPS_sxVdk7gS"
      }
    },
    {
      "cell_type": "code",
      "source": [
        "for i in range(10):\n",
        "\tprint(i, end=\" \")\n",
        "print()\n"
      ],
      "metadata": {
        "colab": {
          "base_uri": "https://localhost:8080/"
        },
        "id": "r6hGmqxRlxti",
        "outputId": "49e0cdfc-7e42-4e6e-f927-2338ec1e35fa"
      },
      "execution_count": null,
      "outputs": [
        {
          "output_type": "stream",
          "name": "stdout",
          "text": [
            "0 1 2 3 4 5 6 7 8 9 \n"
          ]
        }
      ]
    },
    {
      "cell_type": "code",
      "source": [
        "for i in range(0,10):\n",
        "\tprint(i, end=\" \")\n",
        "print()\n"
      ],
      "metadata": {
        "colab": {
          "base_uri": "https://localhost:8080/"
        },
        "id": "EjJWyfJMlxGy",
        "outputId": "519d77c2-24b6-4b14-dbe4-18e9f269906c"
      },
      "execution_count": null,
      "outputs": [
        {
          "output_type": "stream",
          "name": "stdout",
          "text": [
            "0 1 2 3 4 5 6 7 8 9 \n"
          ]
        }
      ]
    },
    {
      "cell_type": "code",
      "source": [
        "for i in range(0,10,1):\n",
        "\tprint(i, end=\" \")\n",
        "print()\n"
      ],
      "metadata": {
        "colab": {
          "base_uri": "https://localhost:8080/"
        },
        "id": "gBDQWQclk_ny",
        "outputId": "8335cff4-e2e0-4500-ed69-ef17784aae9e"
      },
      "execution_count": null,
      "outputs": [
        {
          "output_type": "stream",
          "name": "stdout",
          "text": [
            "0 1 2 3 4 5 6 7 8 9 \n"
          ]
        }
      ]
    },
    {
      "cell_type": "code",
      "source": [
        "# As we can see there is no difference butween  range(10), range(0, 10), and range(0, 10, 1) It will execute value but 0 to 10.As its in for loop it will not execute nth number ,so it will execute n-1 numbers."
      ],
      "metadata": {
        "id": "Uq8eRyKwl2bK"
      },
      "execution_count": null,
      "outputs": []
    },
    {
      "cell_type": "markdown",
      "source": [
        "12. Write a short program that prints the numbers 1 to 10 using a for loop. Then write an equivalent program that prints the numbers 1 to 10 using a while loop."
      ],
      "metadata": {
        "id": "mQrTFDQNlHq6"
      }
    },
    {
      "cell_type": "code",
      "source": [
        "#for loop\n",
        "for i in range(1, 10): # range(stop, start)\n",
        "    print(i)\n",
        "\n",
        "#while loop\n",
        "j = 1\n",
        "\n",
        "while j <= 10:\n",
        "    print(j)\n",
        "    j += 1      # j = j + 1"
      ],
      "metadata": {
        "colab": {
          "base_uri": "https://localhost:8080/"
        },
        "id": "2bV3JxbNlIOs",
        "outputId": "7b0735a5-4b5e-46e3-9543-10992f0aed6b"
      },
      "execution_count": null,
      "outputs": [
        {
          "output_type": "stream",
          "name": "stdout",
          "text": [
            "1\n",
            "2\n",
            "3\n",
            "4\n",
            "5\n",
            "6\n",
            "7\n",
            "8\n",
            "9\n",
            "1\n",
            "2\n",
            "3\n",
            "4\n",
            "5\n",
            "6\n",
            "7\n",
            "8\n",
            "9\n",
            "10\n"
          ]
        }
      ]
    },
    {
      "cell_type": "markdown",
      "source": [
        "13. If you had a function named bacon() inside a module named spam, how would you call it after importing spam?\n"
      ],
      "metadata": {
        "id": "pQb_H9o4lIfC"
      }
    },
    {
      "cell_type": "code",
      "source": [
        "After importing spam function can be called with spam.bacon()."
      ],
      "metadata": {
        "id": "iKFx6DmFlpCC"
      },
      "execution_count": null,
      "outputs": []
    }
  ]
}