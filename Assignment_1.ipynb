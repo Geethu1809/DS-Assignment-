{
  "nbformat": 4,
  "nbformat_minor": 0,
  "metadata": {
    "colab": {
      "provenance": []
    },
    "kernelspec": {
      "name": "python3",
      "display_name": "Python 3"
    },
    "language_info": {
      "name": "python"
    }
  },
  "cells": [
    {
      "cell_type": "markdown",
      "source": [
        "1. In the below elements which of them are values or an expression? eg:- values can be integer or string and expressions will be mathematical operators.\n",
        "*\n",
        "'hello'\n",
        "-87.8\n",
        "-\n",
        "/\n",
        "+\n",
        "6\n",
        "\n",
        "   Operators: +, -, *, /\n",
        "   Values: 'hello', -88.5, 5\n"
      ],
      "metadata": {
        "id": "m39gO4qX3CYF"
      }
    },
    {
      "cell_type": "markdown",
      "source": [
        "\n",
        "2. What is the difference between string and variable?\n",
        "String:-\n",
        "-String in python are sequences of character data.They are created\n",
        " by enclosing characters in quotes.\n",
        "-A string is a data structure in Python that represents a sequence\n",
        "of characters.\n",
        "-It is an immutable data type, meaning that once you have created\n",
        "a string, you cannot change it.\n",
        "-Strings are used widely in many different applications, such as\n",
        "storing and manipulating text data, representing names, addresses,\n",
        "and other types of data that can be represented as text.\n",
        "-Strings in python are surrounded by either single quotation marks,\n",
        " or double quotation marks.\n",
        "\n",
        "Variables:-\n",
        "-Variables need not be declared first in python. They can be used\n",
        "directly.\n",
        "-A variable is created the moment you first assign a value to it.\n",
        "-Variables do not need to be declared with any particular type,\n",
        "and can even change type after they have been set.\n",
        "-Variables in python are case-sensitive as most of the other\n",
        " programming languages.\n",
        "-Variables are declared by writing the variable name and assigning it a\n",
        "value using the equals sign (=).\n"
      ],
      "metadata": {
        "id": "Z2HDwJri3QC1"
      }
    },
    {
      "cell_type": "markdown",
      "source": [
        "\n",
        "3. Describe three different data types.\n",
        "3 different type of data types are:-\n",
        "  1. Integers\n",
        "  2. Floats\n",
        "  3. Strings\n",
        "\n",
        "1.Integer:\n",
        "-Int, or integer, is a whole number, positive or negative, without\n",
        "decimals, of unlimited length.\n",
        "-e.g. 0, 100, -10.\n",
        "-Integers can be binary, octal, and hexadecimal values.\n",
        "\n",
        "2.Floats:\n",
        "-Float, or \"floating point number\" is a number, positive or\n",
        "negative, containing one or more decimals.\n",
        "-Float can also be scientific numbers with an \"e\" to\n",
        "indicate the power of 10.\n",
        "-floating point numbers (float) are positive and negative real numbers\n",
        "with a fractional part denoted by the decimal symbol . or the scientific\n",
        "notation E or e.\n",
        "-e.g. 1234.56, 3.142, -1.55, 0.23.\n",
        "\n",
        "3.Strings:\n",
        "-String in python are sequences of character data.They are created\n",
        " by enclosing characters in quotes.\n",
        "-A string is a data structure in Python that represents a sequence\n",
        "of characters.\n",
        "-It is an immutable data type, meaning that once you have created\n",
        "a string, you cannot change it.\n",
        "-Strings are used widely in many different applications, such as\n",
        "storing and manipulating text data, representing names, addresses,\n",
        "and other types of data that can be represented as text.\n",
        "-Strings in python are surrounded by either single quotation marks,\n",
        " or double quotation marks.\n",
        "\n"
      ],
      "metadata": {
        "id": "-0IxyLYz3QWC"
      }
    },
    {
      "cell_type": "markdown",
      "source": [
        "\n",
        "\n",
        "\n",
        "4. What is an expression made up of? What do all expressions do?\n",
        "-A combination of operands and operators is called an expression. The expression in Python produces some value or result after being interpreted by the Python interpreter. An expression in Python is a combination of operators and operands.\n",
        "-An expression in Python can contain identifiers, operators, and operands\n",
        "-The expression in Python can be considered as a logical line of code that is evaluated to obtain some result. If there are various operators in an expression then the operators are resolved based on their precedence. We have various types of expression in Python, refer to the next section for a more detailed explanation of the types of expression in Python.\n",
        "-There are 8 expressions :-\n",
        "1. Constant Expressions: These are the expressions that have constant values only.\n",
        "2. Arithmetic Expressions: An arithmetic expression is a combination of numeric values, operators, and sometimes parenthesis. The result of this type of expression is also a numeric value. The operators used in these expressions are arithmetic operators like addition, subtraction, etc.\n",
        "3. Integral Expressions: These are the kind of expressions that produce only integer results after all computations and type conversions.\n",
        "4. Floating Expressions: These are the kind of expressions which produce floating point numbers as result after all computations and type conversions.\n",
        "5. Relational Expressions: In these types of expressions, arithmetic expressions are written on both sides of relational operator (> ,< , >= , <=). Those arithmetic expressions are evaluated first, and then compared as per relational operator and produce a boolean output in the end. These expressions are also called Boolean expressions.\n",
        "6. Logical Expressions:As the name suggests, a logical expression performs the logical computation, and the overall expression results in either True or False (boolean result)/yes or no.\n",
        "7. Bitwise Expressions: These are the kind of expressions in which computations are performed at bit level.\n",
        "8. Combinational Expressions: We can also use different types of expressions in a single expression, and that will be termed as combinational expressions.\n",
        "\n"
      ],
      "metadata": {
        "id": "tKSJmRY43Qaj"
      }
    },
    {
      "cell_type": "markdown",
      "source": [
        "5. This assignment statements, like spam = 10. What is the difference between an expression and a statement?\n",
        "-Expressions only contain identifiers, literals and operators, where operators include arithmetic and boolean operators, the function call operator () the subscription operator [] and similar, and can be reduced to some kind of \"value\", which can be any Python object.Statements, on the other hand, are everything that can make up a line (or several lines) of Python code.\n",
        "-Expressions can be assigned or used as operands, while statements can only be declared.\n",
        "-Statements create side effects to be useful, while expressions are values or execute to values.\n",
        "-Expressions are unique in meaning, while statements are two-sided in execution. For example, 1 has a certain value while go( ) may be executed or not.\n",
        "-Statements are the whole structure, while expressions are the building blocks. For example, a line or a block of code is a statement.\n"
      ],
      "metadata": {
        "id": "OfKSvL8V3QdM"
      }
    },
    {
      "cell_type": "markdown",
      "source": [
        "\n",
        "6. After running the following code, what does the variable bacon contain?\n",
        "bacon = 22\n",
        "bacon + 1\n",
        "-The bacon variable is set to 22.\n",
        "-Its becz we connot change the value of bacon.\n",
        "\n"
      ],
      "metadata": {
        "id": "ecoLEng-3Qek"
      }
    },
    {
      "cell_type": "markdown",
      "source": [
        "\n",
        "7. What should the values of the following two terms be?\n",
        "'spam' + 'spamspam'\n",
        "'spam' * 3\n",
        "-\tAnswer:-‘spamspamspam’\n",
        "\n"
      ],
      "metadata": {
        "id": "6zw0lLpd3QgB"
      }
    },
    {
      "cell_type": "markdown",
      "source": [
        "\n",
        "8. Why is eggs a valid variable name while 100 is invalid?\n",
        "- Variable names cannot begin with a number.\n"
      ],
      "metadata": {
        "id": "_7ISA-LU3Qh7"
      }
    },
    {
      "cell_type": "markdown",
      "source": [
        "\n",
        "9. What three functions can be used to get the integer, floating-point number, or string version of a value?\n",
        "- The int() , float() , and str( ) functions will evaluate to the integer, floating-point number, and string versions of the value passed to them.\n"
      ],
      "metadata": {
        "id": "A28cFoKk3QlX"
      }
    },
    {
      "cell_type": "markdown",
      "source": [
        "\n",
        "10. Why does this expression cause an error? How can you fix it?\n",
        "'I have eaten ' + 99 + ' burritos.'\n",
        "- The expression causes an error because 99 is an integer, and only strings can be concatenated to other strings with the + operator.\n",
        "-The correct way is I have eaten ' + str(99) + ' burritos. '.\n",
        "\n"
      ],
      "metadata": {
        "id": "DyselEPz_SMu"
      }
    }
  ]
}