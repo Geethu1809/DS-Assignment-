{
  "nbformat": 4,
  "nbformat_minor": 0,
  "metadata": {
    "colab": {
      "provenance": []
    },
    "kernelspec": {
      "name": "python3",
      "display_name": "Python 3"
    },
    "language_info": {
      "name": "python"
    }
  },
  "cells": [
    {
      "cell_type": "markdown",
      "source": [
        "1. Why are functions advantageous to have in your programs?"
      ],
      "metadata": {
        "id": "Hm435Ji0tIe8"
      }
    },
    {
      "cell_type": "code",
      "source": [
        "With the help of functions, can avoid rewriting the same logic or code again and again in a program.\n",
        "In a single Program, we can call Python functions anywhere and also call multiple times.\n",
        "We can track a large Python program easily when it is divided into multiple functions.\n",
        "The main achievement of Python functions is its Reusability."
      ],
      "metadata": {
        "id": "o3yjG92TtJXM"
      },
      "execution_count": null,
      "outputs": []
    },
    {
      "cell_type": "markdown",
      "source": [
        "2. When does the code in a function run: when it's specified or when it's called?"
      ],
      "metadata": {
        "id": "wJTbV90Z0Ktr"
      }
    },
    {
      "cell_type": "code",
      "source": [
        "The code in a function executes when the function is called, not when the function is defined."
      ],
      "metadata": {
        "id": "lYz-Ptbu0qhN"
      },
      "execution_count": null,
      "outputs": []
    },
    {
      "cell_type": "markdown",
      "source": [
        "\n",
        "3. What statement creates a function?\n"
      ],
      "metadata": {
        "id": "-LTtjINi2dtt"
      }
    },
    {
      "cell_type": "code",
      "source": [
        "#In Python, we define a function with the def keyword, then write the function identifier (name) followed by parentheses and a colon.\n",
        "def functionName():"
      ],
      "metadata": {
        "id": "A9y8cO5T55W_"
      },
      "execution_count": null,
      "outputs": []
    },
    {
      "cell_type": "markdown",
      "source": [
        "\n",
        "4. What is the difference between a function and a function call?"
      ],
      "metadata": {
        "id": "2Fum5xHE2i3N"
      }
    },
    {
      "cell_type": "code",
      "source": [
        "-A function is a part of code which enhanced the reusability and modularity of a program.\n",
        "-It means that part of code need not be written again.\n",
        "\n",
        "-A function call means invoking or calling that function.\n",
        "-Unless a function is called there is no use of that function."
      ],
      "metadata": {
        "id": "ttnaYI5h5yae"
      },
      "execution_count": null,
      "outputs": []
    },
    {
      "cell_type": "markdown",
      "source": [
        "\n",
        "5. How many global scopes are there in a Python program? How many local scopes?"
      ],
      "metadata": {
        "id": "KJ1mkmsq2jOM"
      }
    },
    {
      "cell_type": "code",
      "source": [
        "Typically one global scope.\n",
        "The number of local scopes can vary depending on the number of functions or code blocks present in the program."
      ],
      "metadata": {
        "id": "qRk2aWeZ6yQO"
      },
      "execution_count": null,
      "outputs": []
    },
    {
      "cell_type": "markdown",
      "source": [
        "\n",
        "6. What happens to variables in a local scope when the function call returns?"
      ],
      "metadata": {
        "id": "IZsE2yCg2js9"
      }
    },
    {
      "cell_type": "code",
      "source": [
        "This means that any variables defined within the local scope are also destroyed and no longer accessible."
      ],
      "metadata": {
        "id": "BafdEWX08PTn"
      },
      "execution_count": null,
      "outputs": []
    },
    {
      "cell_type": "markdown",
      "source": [
        "\n",
        "7. What is the concept of a return value? Is it possible to have a return value in an expression?"
      ],
      "metadata": {
        "id": "RlZzXFy92jve"
      }
    },
    {
      "cell_type": "code",
      "source": [
        "A return is a value that a function returns to the calling script or function when it completes its task.\n",
        "\n",
        "Its possible to have a return value in an expression. This means that the return value of a function can be directly used within an expression or assigned to a variable\n"
      ],
      "metadata": {
        "id": "UBanKex0En-3"
      },
      "execution_count": null,
      "outputs": []
    },
    {
      "cell_type": "markdown",
      "source": [
        "\n",
        "8. If a function does not have a return statement, what is the return value of a call to that function?"
      ],
      "metadata": {
        "id": "Io23esZt2jx1"
      }
    },
    {
      "cell_type": "code",
      "source": [
        " The return value of a call to that function is `None`.\n",
        " `None` is a special object that represents the absence of a value."
      ],
      "metadata": {
        "id": "hswwztTMGOwQ"
      },
      "execution_count": null,
      "outputs": []
    },
    {
      "cell_type": "markdown",
      "source": [
        "\n",
        "9. How do you make a function variable refer to the global variable?"
      ],
      "metadata": {
        "id": "55YuQh2w2j0N"
      }
    },
    {
      "cell_type": "code",
      "source": [
        "Function variable refer to the global variable, can use the `global` keyword in Python.\n",
        "By using the `global` keyword followed by the variable name inside the function, can indicate that the variable should refer to the global variable with the same name, rather than creating a new local variable.\n"
      ],
      "metadata": {
        "id": "u9Xp0RRgGazg"
      },
      "execution_count": null,
      "outputs": []
    },
    {
      "cell_type": "markdown",
      "source": [
        "\n",
        "10. What is the data type of None?"
      ],
      "metadata": {
        "id": "HcRuyOX72j2l"
      }
    },
    {
      "cell_type": "code",
      "source": [
        "None is a data type of its own (NoneType) and only None can be None.\n",
        "`NoneType` is a built-in data type that has a single value, which is `None`."
      ],
      "metadata": {
        "id": "ohk4sjkQHjog"
      },
      "execution_count": null,
      "outputs": []
    },
    {
      "cell_type": "markdown",
      "source": [
        "\n",
        "11. What does the sentence import areallyourpetsnamederic do?"
      ],
      "metadata": {
        "id": "AY_i4nOt2j5l"
      }
    },
    {
      "cell_type": "code",
      "source": [
        "The import statement imports a module named areallyourpetsnamederic."
      ],
      "metadata": {
        "id": "C8zULWzYH3Lo"
      },
      "execution_count": null,
      "outputs": []
    },
    {
      "cell_type": "markdown",
      "source": [
        "\n",
        "12. If you had a bacon() feature in a spam module, what would you call it after importing spam?"
      ],
      "metadata": {
        "id": "ElzkJE9R2j8F"
      }
    },
    {
      "cell_type": "code",
      "source": [
        "Ofter importing spam it can be called as spam.bacon()"
      ],
      "metadata": {
        "id": "GF08qsBztxjA"
      },
      "execution_count": null,
      "outputs": []
    },
    {
      "cell_type": "markdown",
      "source": [
        "\n",
        "13. What can you do to save a programme from crashing if it encounters an error?"
      ],
      "metadata": {
        "id": "EUAWP7F424_G"
      }
    },
    {
      "cell_type": "code",
      "source": [
        "Code the program inside a try and except statement.\n",
        "Try running the program and it should throw an error message instead of crashing the program."
      ],
      "metadata": {
        "id": "85_3kDt5u0lw"
      },
      "execution_count": null,
      "outputs": []
    },
    {
      "cell_type": "markdown",
      "source": [
        "\n",
        "14. What is the purpose of the try clause? What is the purpose of the except clause?"
      ],
      "metadata": {
        "id": "EgvFlnR325DO"
      }
    },
    {
      "cell_type": "code",
      "source": [
        " try clause:-\n",
        "The try block is used to enclose the code that might potentially raise an exception.\n",
        "The purpose of the try clause is to mark the section of code where user expect an exception might occur. I\n",
        "\n",
        " except clause:-\n",
        " The purpose of the except clause is to provide an opportunity to deal with the exception in a controlled and predefined way.\n",
        " The except block is used to handle the exceptions that occurred within the corresponding try block.\n",
        "\n"
      ],
      "metadata": {
        "id": "thWIRBPlvCeP"
      },
      "execution_count": null,
      "outputs": []
    }
  ]
}