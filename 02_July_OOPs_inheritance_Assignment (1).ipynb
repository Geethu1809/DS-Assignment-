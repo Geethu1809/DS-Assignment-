{
  "nbformat": 4,
  "nbformat_minor": 0,
  "metadata": {
    "colab": {
      "provenance": []
    },
    "kernelspec": {
      "name": "python3",
      "display_name": "Python 3"
    },
    "language_info": {
      "name": "python"
    }
  },
  "cells": [
    {
      "cell_type": "markdown",
      "source": [
        "1. Explain what inheritance is in object-oriented programming and why it is used.\n"
      ],
      "metadata": {
        "id": "ZmxUXQTJff99"
      }
    },
    {
      "cell_type": "code",
      "source": [
        " object-oriented programming (OOP), inheritance is a mechanism that allows a class to inherit properties and behaviors from another class.\n",
        " It is a fundamental concept in OOP that promotes code reuse and establishes relationships between classes"
      ],
      "metadata": {
        "id": "VdDMfeI46_do"
      },
      "execution_count": null,
      "outputs": []
    },
    {
      "cell_type": "markdown",
      "source": [
        "2. Discuss the concept of single inheritance and multiple inheritance, highlighting their\n",
        "differences and advantages.\n"
      ],
      "metadata": {
        "id": "Td_XaaaPfgAd"
      }
    },
    {
      "cell_type": "code",
      "source": [
        "Single inheritance and multiple inheritance are both concepts in object-oriented programming that involve the inheritance of properties and behaviors from one class to another\n",
        "\n",
        "Single inheritance refers to the ability of a class to inherit properties and behaviors from only one base class. A derived class can have only one direct parent class.\n",
        "This promotes a simpler and more straightforward class hierarchy, making it easier to understand and maintain the code. Single inheritance is often used when there is a clear and logical relationship between the base class and the derived class.\n",
        "\n",
        "Multiple inheritance allows a class to inherit properties and behaviors from multiple base classes. This means that a derived class can have multiple direct parent classes.\n",
        "Multiple inheritance can be useful when a derived class needs to combine features from multiple unrelated classes. However, it can also lead to more complex code and potential conflicts if there are naming clashes or ambiguity in inherited methods or attributes.\n"
      ],
      "metadata": {
        "id": "3rbjB3AM7ASI"
      },
      "execution_count": null,
      "outputs": []
    },
    {
      "cell_type": "code",
      "source": [
        "Advantages:-\n",
        "Single inheritance include a simpler class hierarchy, easier code maintenance, and reduced chances of conflicts or ambiguity. It promotes a clear and linear relationship between classes.\n",
        "\n",
        "Multiple inheritance include the ability to combine features from multiple unrelated classes, increased code reuse, and flexibility in designing complex class relationships. It allows for more diverse and specialized class hierarchies.\n"
      ],
      "metadata": {
        "id": "8OvCIOvDuObY"
      },
      "execution_count": null,
      "outputs": []
    },
    {
      "cell_type": "markdown",
      "source": [
        "3. Explain the terms \"base class\" and \"derived class\" in the context of inheritance.\n"
      ],
      "metadata": {
        "id": "w0Rnzwj3fgCu"
      }
    },
    {
      "cell_type": "code",
      "source": [
        "In the context of inheritance, a base class (also known as a parent class or superclass) is the class from which other classes inherit properties and behaviors. It serves as the foundation or template for the derived classes.\n",
        "The base class defines common attributes and methods that can be shared by multiple derived classes. It encapsulates the common functionality that can be inherited and extended by the derived classes.\n",
        "\n",
        "A derived class (also known as a child class or subclass) is a class that inherits properties and behaviors from a base class. It extends or specializes the base class by adding its own unique attributes and methods.\n",
        "The derived class can access and use the attributes and methods of the base class, and it can also override or modify them to suit its specific needs. The derived class can further be used as a base class for other classes, creating a hierarchical structure of inheritance.\n",
        "\n",
        "The base class is the class being inherited from, providing a common set of attributes and methods, while the derived class is the class inheriting from the base class, extending or modifying its functionality to create specialized objects.\n"
      ],
      "metadata": {
        "id": "ESC6VCUV7A9o"
      },
      "execution_count": null,
      "outputs": []
    },
    {
      "cell_type": "markdown",
      "source": [
        "4. What is the significance of the \"protected\" access modifier in inheritance? How does\n",
        "it differ from \"private\" and \"public\" modifiers?\n"
      ],
      "metadata": {
        "id": "3_3sJHvpfgFl"
      }
    },
    {
      "cell_type": "code",
      "source": [
        "The \"protected\" access modifier in inheritance is used to restrict access to certain attributes or methods within a class hierarchy. It allows the member to be accessed within the class itself, as well as by its subclasses.\n",
        "The \"private\" access modifier, on the other hand, restricts access to only within the class where the member is defined. It cannot be accessed by any other class, including subclasses.\n",
        "The \"public\" access modifier allows unrestricted access to the member from any class, including subclasses.\n",
        "\n",
        "The \"protected\" access modifier provides a middle ground between \"private\" and \"public\", allowing access within the class and its subclasses, but not from other unrelated classes."
      ],
      "metadata": {
        "id": "Kz5uyveg7BcA"
      },
      "execution_count": null,
      "outputs": []
    },
    {
      "cell_type": "markdown",
      "source": [
        "5. What is the purpose of the \"super\" keyword in inheritance? Provide an example.\n"
      ],
      "metadata": {
        "id": "6iFQYjFxfgH0"
      }
    },
    {
      "cell_type": "code",
      "source": [
        "The \"super\" keyword in inheritance is used to refer to the parent class or superclass. It is primarily used to call the superclass's methods or access its attributes from the subclass.\n"
      ],
      "metadata": {
        "id": "DbU9OTcA7B5I"
      },
      "execution_count": null,
      "outputs": []
    },
    {
      "cell_type": "code",
      "source": [
        "class Parent:\n",
        "    def __init__(self): #child's constructor calls the parent class's constructor\n",
        "        self.parent_attribute = \"Parent Attribute\"\n",
        "\n",
        "    def parent_method(self):\n",
        "        print(\"This is a method from the parent class.\")\n",
        "\n",
        "\n",
        "class Child(Parent):\n",
        "    def __init__(self):\n",
        "        super().__init__()  # Calling the parent class's constructor\n",
        "        self.child_attribute = \"Child Attribute\"\n",
        "\n",
        "    def child_method(self):\n",
        "        super().parent_method()  # Calling the parent class's method\n",
        "        print(\"This is a method from the child class.\")\n",
        "\n",
        "\n",
        "child_obj = Child()\n",
        "child_obj.child_method()\n"
      ],
      "metadata": {
        "colab": {
          "base_uri": "https://localhost:8080/"
        },
        "id": "S-l0vLupwHX4",
        "outputId": "29e5e894-14eb-4411-eb6a-aaa2275d8d49"
      },
      "execution_count": null,
      "outputs": [
        {
          "output_type": "stream",
          "name": "stdout",
          "text": [
            "This is a method from the parent class.\n",
            "This is a method from the child class.\n"
          ]
        }
      ]
    },
    {
      "cell_type": "markdown",
      "source": [
        "6. Create a base class called \"Vehicle\" with attributes like \"make\", \"model\", and \"year\".\n",
        "Then, create a derived class called \"Car\" that inherits from \"Vehicle\" and adds an\n",
        "attribute called \"fuel_type\". Implement appropriate methods in both classes.\n"
      ],
      "metadata": {
        "id": "rDHIP6QhfgKe"
      }
    },
    {
      "cell_type": "code",
      "source": [
        "class Vehicle:\n",
        "    def __init__(self, make, model, year):\n",
        "        self.make = make\n",
        "        self.model = model\n",
        "        self.year = year\n",
        "\n",
        "    def display_info(self):\n",
        "        print(f\"{self.year} {self.make} {self.model}\")\n",
        "\n",
        "class Car(Vehicle):\n",
        "    def __init__(self, make, model, year, fuel_type):\n",
        "        super().__init__(make, model, year)\n",
        "        self.fuel_type = fuel_type\n",
        "\n",
        "    def display_info(self):\n",
        "        super().display_info()\n",
        "        print(f\"Fuel Type: {self.fuel_type}\")\n",
        "\n",
        "vehicle1 = Vehicle(\"Toyota\", \"Camry\", 2022)\n",
        "vehicle1.display_info()\n",
        "\n",
        "car1 = Car(\"Tesla\", \"Model S\", 2023, \"Electric\")\n",
        "car1.display_info()\n"
      ],
      "metadata": {
        "id": "w-JikwuAwemQ",
        "colab": {
          "base_uri": "https://localhost:8080/"
        },
        "outputId": "6f094a9a-1cba-45c4-dfa5-e2b3499de444"
      },
      "execution_count": 1,
      "outputs": [
        {
          "output_type": "stream",
          "name": "stdout",
          "text": [
            "2022 Toyota Camry\n",
            "2023 Tesla Model S\n",
            "Fuel Type: Electric\n"
          ]
        }
      ]
    },
    {
      "cell_type": "code",
      "source": [],
      "metadata": {
        "id": "-E5f9nkFxDo4"
      },
      "execution_count": null,
      "outputs": []
    },
    {
      "cell_type": "markdown",
      "source": [
        "7. Create a base class called \"Employee\" with attributes like \"name\" and \"salary.\"\n",
        "Derive two classes, \"Manager\" and \"Developer,\" from \"Employee.\" Add an additional\n",
        "attribute called \"department\" for the \"Manager\" class and \"programming_language\"\n",
        "for the \"Developer\" class.\n"
      ],
      "metadata": {
        "id": "NqFY6ExffgNP"
      }
    },
    {
      "cell_type": "code",
      "source": [
        "class Employee:\n",
        "    def __init__(self, name, salary):\n",
        "        self.name = name\n",
        "        self.salary = salary\n",
        "\n",
        "    def display_info(self):\n",
        "        print(f\"Name: {self.name}\")\n",
        "        print(f\"Salary: ${self.salary}\")\n",
        "\n",
        "class Manager(Employee):\n",
        "    def __init__(self, name, salary, department):\n",
        "        super().__init__(name, salary)\n",
        "        self.department = department\n",
        "\n",
        "    def display_info(self):\n",
        "        super().display_info()\n",
        "        print(f\"Department: {self.department}\")\n",
        "\n",
        "class Developer(Employee):\n",
        "    def __init__(self, name, salary, programming_language):\n",
        "        super().__init__(name, salary)\n",
        "        self.programming_language = programming_language\n",
        "\n",
        "    def display_info(self):\n",
        "        super().display_info()\n",
        "        print(f\"Programming Language: {self.programming_language}\")\n",
        "\n",
        "employee1 = Employee(\"John Doe\", 60000)\n",
        "employee1.display_info()\n",
        "\n",
        "manager1 = Manager(\"Alice Smith\", 80000, \"IT\")\n",
        "manager1.display_info()\n",
        "\n",
        "developer1 = Developer(\"Bob Johnson\", 70000, \"Python\")\n",
        "developer1.display_info()\n"
      ],
      "metadata": {
        "id": "qiVoY2OewfFH",
        "colab": {
          "base_uri": "https://localhost:8080/"
        },
        "outputId": "b56bdf7e-2caa-4f1e-f84b-c8e42105ccbd"
      },
      "execution_count": 2,
      "outputs": [
        {
          "output_type": "stream",
          "name": "stdout",
          "text": [
            "Name: John Doe\n",
            "Salary: $60000\n",
            "Name: Alice Smith\n",
            "Salary: $80000\n",
            "Department: IT\n",
            "Name: Bob Johnson\n",
            "Salary: $70000\n",
            "Programming Language: Python\n"
          ]
        }
      ]
    },
    {
      "cell_type": "code",
      "source": [],
      "metadata": {
        "id": "r3hOPjFnxHJQ"
      },
      "execution_count": null,
      "outputs": []
    },
    {
      "cell_type": "markdown",
      "source": [
        "8. Design a base class called \"Shape\" with attributes like \"colour\" and \"border_width.\"\n",
        "Create derived classes, \"Rectangle\" and \"Circle,\" that inherit from \"Shape\" and add\n",
        "specific attributes like \"length\" and \"width\" for the \"Rectangle\" class and \"radius\" for\n",
        "the \"Circle\" class.\n"
      ],
      "metadata": {
        "id": "rmD1OTpzfgQJ"
      }
    },
    {
      "cell_type": "code",
      "source": [
        "class Shape:\n",
        "    def __init__(self, colour, border_width):\n",
        "        self.colour = colour\n",
        "        self.border_width = border_width\n",
        "\n",
        "    def display_info(self):\n",
        "        print(f\"Colour: {self.colour}\")\n",
        "        print(f\"Border Width: {self.border_width}\")\n",
        "\n",
        "class Rectangle(Shape):\n",
        "    def __init__(self, colour, border_width, length, width):\n",
        "        super().__init__(colour, border_width)\n",
        "        self.length = length\n",
        "        self.width = width\n",
        "\n",
        "    def display_info(self):\n",
        "        super().display_info()\n",
        "        print(f\"Length: {self.length}\")\n",
        "        print(f\"Width: {self.width}\")\n",
        "        print(f\"Area: {self.calculate_area()}\")\n",
        "\n",
        "    def calculate_area(self):\n",
        "        return self.length * self.width\n",
        "\n",
        "class Circle(Shape):\n",
        "    def __init__(self, colour, border_width, radius):\n",
        "        super().__init__(colour, border_width)\n",
        "        self.radius = radius\n",
        "\n",
        "    def display_info(self):\n",
        "        super().display_info()\n",
        "        print(f\"Radius: {self.radius}\")\n",
        "        print(f\"Area: {self.calculate_area()}\")\n",
        "\n",
        "    def calculate_area(self):\n",
        "        return 3.14 * self.radius * self.radius\n",
        "\n",
        "rectangle1 = Rectangle(\"Blue\", 2, 5, 8)\n",
        "rectangle1.display_info()\n",
        "\n",
        "circle1 = Circle(\"Red\", 1, 4)\n",
        "circle1.display_info()\n"
      ],
      "metadata": {
        "id": "iSzO5dWlwfzp",
        "colab": {
          "base_uri": "https://localhost:8080/"
        },
        "outputId": "12b60d17-ba90-47ec-b69d-f5cef4be86f1"
      },
      "execution_count": 3,
      "outputs": [
        {
          "output_type": "stream",
          "name": "stdout",
          "text": [
            "Colour: Blue\n",
            "Border Width: 2\n",
            "Length: 5\n",
            "Width: 8\n",
            "Area: 40\n",
            "Colour: Red\n",
            "Border Width: 1\n",
            "Radius: 4\n",
            "Area: 50.24\n"
          ]
        }
      ]
    },
    {
      "cell_type": "code",
      "source": [],
      "metadata": {
        "id": "lXy12ChSxHh3"
      },
      "execution_count": null,
      "outputs": []
    },
    {
      "cell_type": "markdown",
      "source": [
        "9. Create a base class called \"Device\" with attributes like \"brand\" and \"model.\" Derive\n",
        "two classes, \"Phone\" and \"Tablet,\" from \"Device.\" Add specific attributes like\n",
        "\"screen_size\" for the \"Phone\" class and \"battery_capacity\" for the \"Tablet\" class.\n"
      ],
      "metadata": {
        "id": "n5wq-lxsfgTi"
      }
    },
    {
      "cell_type": "code",
      "source": [
        "class Device:\n",
        "    def __init__(self, brand, model):\n",
        "        self.brand = brand\n",
        "        self.model = model\n",
        "\n",
        "    def display_info(self):\n",
        "        print(f\"Brand: {self.brand}\")\n",
        "        print(f\"Model: {self.model}\")\n",
        "\n",
        "class Phone(Device):\n",
        "    def __init__(self, brand, model, screen_size):\n",
        "        super().__init__(brand, model)\n",
        "        self.screen_size = screen_size\n",
        "\n",
        "    def display_info(self):\n",
        "        super().display_info()\n",
        "        print(f\"Screen Size: {self.screen_size}\")\n",
        "\n",
        "class Tablet(Device):\n",
        "    def __init__(self, brand, model, battery_capacity):\n",
        "        super().__init__(brand, model)\n",
        "        self.battery_capacity = battery_capacity\n",
        "\n",
        "    def display_info(self):\n",
        "        super().display_info()\n",
        "        print(f\"Battery Capacity: {self.battery_capacity} mAh\")\n",
        "\n",
        "phone1 = Phone(\"Apple\", \"iPhone 13\", 6.1)\n",
        "phone1.display_info()\n",
        "\n",
        "tablet1 = Tablet(\"Samsung\", \"Galaxy Tab S7\", 8000)\n",
        "tablet1.display_info()\n"
      ],
      "metadata": {
        "id": "w4X7cV9oxIK5",
        "colab": {
          "base_uri": "https://localhost:8080/"
        },
        "outputId": "8f3dd2c7-769a-4439-e373-17a4680c7469"
      },
      "execution_count": 4,
      "outputs": [
        {
          "output_type": "stream",
          "name": "stdout",
          "text": [
            "Brand: Apple\n",
            "Model: iPhone 13\n",
            "Screen Size: 6.1\n",
            "Brand: Samsung\n",
            "Model: Galaxy Tab S7\n",
            "Battery Capacity: 8000 mAh\n"
          ]
        }
      ]
    },
    {
      "cell_type": "code",
      "source": [],
      "metadata": {
        "id": "p41kUoUFyOwZ"
      },
      "execution_count": null,
      "outputs": []
    },
    {
      "cell_type": "markdown",
      "source": [
        "10. Create a base class called \"BankAccount\" with attributes like \"account_number\" and\n",
        "\"balance.\" Derive two classes, \"SavingsAccount\" and \"CheckingAccount,\" from\n",
        "\"BankAccount.\" Add specific methods like \"calculate_interest\" for the\n",
        "\"SavingsAccount\" class and \"deduct_fees\" for the \"CheckingAccount\" class."
      ],
      "metadata": {
        "id": "636SRH2Df_au"
      }
    },
    {
      "cell_type": "code",
      "source": [
        "class BankAccount:\n",
        "    def __init__(self, account_number, balance):\n",
        "        self.account_number = account_number\n",
        "        self.balance = balance\n",
        "\n",
        "    def display_info(self):\n",
        "        print(f\"Account Number: {self.account_number}\")\n",
        "        print(f\"Balance: ${self.balance}\")\n",
        "\n",
        "class SavingsAccount(BankAccount):\n",
        "    def __init__(self, account_number, balance, interest_rate):\n",
        "        super().__init__(account_number, balance)\n",
        "        self.interest_rate = interest_rate\n",
        "\n",
        "    def calculate_interest(self):\n",
        "        interest_amount = self.balance * (self.interest_rate / 100)\n",
        "        self.balance += interest_amount\n",
        "        print(f\"Interest calculated: ${interest_amount}\")\n",
        "        print(\"Updated Balance after interest: ${}\".format(self.balance))\n",
        "\n",
        "class CheckingAccount(BankAccount):\n",
        "    def __init__(self, account_number, balance, fee_per_transaction):\n",
        "        super().__init__(account_number, balance)\n",
        "        self.fee_per_transaction = fee_per_transaction\n",
        "\n",
        "    def deduct_fees(self, num_transactions):\n",
        "        total_fee = self.fee_per_transaction * num_transactions\n",
        "        self.balance -= total_fee\n",
        "        print(f\"Fees deducted: ${total_fee}\")\n",
        "        print(\"Updated Balance after fees: ${}\".format(self.balance))\n",
        "\n",
        "savings_account = SavingsAccount(\"SA12345\", 1000, 2.5)\n",
        "savings_account.display_info()\n",
        "savings_account.calculate_interest()\n",
        "savings_account.display_info()\n",
        "\n",
        "checking_account = CheckingAccount(\"CA67890\", 1500, 1.0)\n",
        "checking_account.display_info()\n",
        "checking_account.deduct_fees(3)\n",
        "checking_account.display_info()\n"
      ],
      "metadata": {
        "id": "EdDFNZSlxIpY",
        "colab": {
          "base_uri": "https://localhost:8080/"
        },
        "outputId": "19a4fbdd-c6c4-430c-fc4c-2534516ace37"
      },
      "execution_count": 5,
      "outputs": [
        {
          "output_type": "stream",
          "name": "stdout",
          "text": [
            "Account Number: SA12345\n",
            "Balance: $1000\n",
            "Interest calculated: $25.0\n",
            "Updated Balance after interest: $1025.0\n",
            "Account Number: SA12345\n",
            "Balance: $1025.0\n",
            "Account Number: CA67890\n",
            "Balance: $1500\n",
            "Fees deducted: $3.0\n",
            "Updated Balance after fees: $1497.0\n",
            "Account Number: CA67890\n",
            "Balance: $1497.0\n"
          ]
        }
      ]
    },
    {
      "cell_type": "code",
      "source": [],
      "metadata": {
        "id": "VDVASyfsxIk7"
      },
      "execution_count": null,
      "outputs": []
    }
  ]
}